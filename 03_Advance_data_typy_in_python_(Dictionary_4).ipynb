{
  "nbformat": 4,
  "nbformat_minor": 0,
  "metadata": {
    "colab": {
      "provenance": []
    },
    "kernelspec": {
      "name": "python3",
      "display_name": "Python 3"
    },
    "language_info": {
      "name": "python"
    }
  },
  "cells": [
    {
      "cell_type": "markdown",
      "source": [
        "# Dictionary( ):\n",
        "\n",
        ".A Python dictionary stores data in key-value pairs, where each key is unique, and it maps to a corresponding value.\n",
        "\n",
        ".A dictionary cannot have duplicate keys; if a duplicate key is assigned a new value, the old value gets overwritten.\n",
        "\n",
        ".Dictionaries are mutable (we can add, update, or remove key-value pairs after creation).\n",
        "\n",
        ".Dictionaries are defined using curly braces {} with keys and values separated by colons.\n",
        "\n",
        ".Dictionaries can contain other dictionaries, allowing the creation of complex data structures."
      ],
      "metadata": {
        "id": "AQ09ALp_rel6"
      }
    },
    {
      "cell_type": "code",
      "execution_count": 14,
      "metadata": {
        "colab": {
          "base_uri": "https://localhost:8080/"
        },
        "id": "E2w0NlkFrWaE",
        "outputId": "5b7d3cd9-f2ee-4ded-9f3e-3fd7199ff8ed"
      },
      "outputs": [
        {
          "output_type": "stream",
          "name": "stdout",
          "text": [
            "<class 'dict'>\n",
            "{'Name': 'chitranjan', 'Age': 22, 'City': 'ara bihar', 'DOB': 2}\n"
          ]
        }
      ],
      "source": [
        "mydata = {\"Name\":\"chitranjan\",\"Age\":22,\"City\":\"ara bihar\",\"DOB\":2}\n",
        "print(type(mydata))\n",
        "print(mydata)"
      ]
    },
    {
      "cell_type": "markdown",
      "source": [
        "# Dictionary Methods:\n",
        "\n",
        "## 1.pop( ):\n",
        "\n",
        "Removes the item with the specified key name."
      ],
      "metadata": {
        "id": "8s4jKaPRuzQo"
      }
    },
    {
      "cell_type": "code",
      "source": [
        "mydata = {\"Name\":\"chitranjan\",\"Age\":22,\"City\":\"ara bihar\",\"DOB\":2}\n",
        "mydata.pop(\"DOB\")"
      ],
      "metadata": {
        "colab": {
          "base_uri": "https://localhost:8080/"
        },
        "id": "dq6EtYeft4oN",
        "outputId": "dbe481c5-dafe-4c2b-c3fe-93004dbd4091"
      },
      "execution_count": 15,
      "outputs": [
        {
          "output_type": "execute_result",
          "data": {
            "text/plain": [
              "2"
            ]
          },
          "metadata": {},
          "execution_count": 15
        }
      ]
    },
    {
      "cell_type": "code",
      "source": [
        "mydata = {\"Name\":\"chitranjan\",\"Age\":22,\"City\":\"ara bihar\",\"dob\":2}\n",
        "mydata.popitem()"
      ],
      "metadata": {
        "colab": {
          "base_uri": "https://localhost:8080/"
        },
        "id": "bRVy_86yv6bT",
        "outputId": "810abdd5-8d01-4d31-dacf-97f0ec477d26"
      },
      "execution_count": 18,
      "outputs": [
        {
          "output_type": "execute_result",
          "data": {
            "text/plain": [
              "('dob', 2)"
            ]
          },
          "metadata": {},
          "execution_count": 18
        }
      ]
    },
    {
      "cell_type": "markdown",
      "source": [
        "## 2.update( ):\n",
        "\n",
        "Updates the dictionary with key-value pairs from another dictionary."
      ],
      "metadata": {
        "id": "zfED9nYyw8Hl"
      }
    },
    {
      "cell_type": "code",
      "source": [
        "mydata = {\"Name\":\"chitranjan\",\"Age\":22,\"City\":\"ara bihar\",\"dob\":2}\n"
      ],
      "metadata": {
        "id": "hIeVo3ABwQAi"
      },
      "execution_count": 19,
      "outputs": []
    },
    {
      "cell_type": "code",
      "source": [
        "mydata.update({\"Age\": 24})\n",
        "print(mydata)\n",
        ""
      ],
      "metadata": {
        "colab": {
          "base_uri": "https://localhost:8080/"
        },
        "id": "lzv9rWVHxW-h",
        "outputId": "91db3762-e581-4d44-9523-f85f7a434363"
      },
      "execution_count": 20,
      "outputs": [
        {
          "output_type": "stream",
          "name": "stdout",
          "text": [
            "{'Name': 'chitranjan', 'Age': 24, 'City': 'ara bihar', 'dob': 2}\n"
          ]
        }
      ]
    },
    {
      "cell_type": "code",
      "source": [
        "mydata.update({\"mail\": \"chitrnjan73063@gmail.com\"})\n",
        "print(mydata)"
      ],
      "metadata": {
        "colab": {
          "base_uri": "https://localhost:8080/"
        },
        "id": "AsC-3xBlxupM",
        "outputId": "1962a9d9-f25f-48da-edb6-64ca6b7bbe46"
      },
      "execution_count": 22,
      "outputs": [
        {
          "output_type": "stream",
          "name": "stdout",
          "text": [
            "{'Name': 'chitranjan', 'Age': 24, 'City': 'ara bihar', 'dob': 2, 'mail': 'chitrnjan73063@gmail.com'}\n"
          ]
        }
      ]
    },
    {
      "cell_type": "markdown",
      "source": [
        "## 3.dict.keys():\n",
        "\n",
        "Returns a view object of all the keys in the dictionary."
      ],
      "metadata": {
        "id": "cLaF7_fTyxZw"
      }
    },
    {
      "cell_type": "code",
      "source": [
        "mydata = {\"Name\":\"chitranjan\",\"Age\":22,\"City\":\"ara bihar\",\"dob\":2}\n",
        "mydata.keys()"
      ],
      "metadata": {
        "colab": {
          "base_uri": "https://localhost:8080/"
        },
        "id": "D4g8XLWjyFb_",
        "outputId": "4bc039fe-e2ec-479b-e2c8-0dfbea4fb6bc"
      },
      "execution_count": 23,
      "outputs": [
        {
          "output_type": "execute_result",
          "data": {
            "text/plain": [
              "dict_keys(['Name', 'Age', 'City', 'dob'])"
            ]
          },
          "metadata": {},
          "execution_count": 23
        }
      ]
    },
    {
      "cell_type": "code",
      "source": [
        "a = {2:\"a\",4:\"b\",5:\"c\",7:\"d\"}\n",
        "a.keys()"
      ],
      "metadata": {
        "colab": {
          "base_uri": "https://localhost:8080/"
        },
        "id": "ni2WDHDMzYE-",
        "outputId": "2e3bb5aa-cba0-4232-cc25-b7d1592ee279"
      },
      "execution_count": 24,
      "outputs": [
        {
          "output_type": "execute_result",
          "data": {
            "text/plain": [
              "dict_keys([2, 4, 5, 7])"
            ]
          },
          "metadata": {},
          "execution_count": 24
        }
      ]
    },
    {
      "cell_type": "markdown",
      "source": [
        "## 4.dict.values():\n",
        "\n",
        "Returns a view object of all the values in the dictionary."
      ],
      "metadata": {
        "id": "qJQ9aBbv0Hj8"
      }
    },
    {
      "cell_type": "code",
      "source": [
        "mydata = {\"Name\":\"chitranjan\",\"Age\":22,\"City\":\"ara bihar\",\"dob\":2}\n",
        "mydata.values()"
      ],
      "metadata": {
        "colab": {
          "base_uri": "https://localhost:8080/"
        },
        "id": "7_4SRnu8zzSJ",
        "outputId": "6c2c8e72-8db3-44de-8a6d-8c451bb09028"
      },
      "execution_count": 25,
      "outputs": [
        {
          "output_type": "execute_result",
          "data": {
            "text/plain": [
              "dict_values(['chitranjan', 22, 'ara bihar', 2])"
            ]
          },
          "metadata": {},
          "execution_count": 25
        }
      ]
    },
    {
      "cell_type": "code",
      "source": [
        "a = {2:\"a\",4:\"b\",5:\"c\",7:\"d\"}\n",
        "a.values()"
      ],
      "metadata": {
        "colab": {
          "base_uri": "https://localhost:8080/"
        },
        "id": "L3IXknk60nVL",
        "outputId": "6f5bd244-8059-4017-8521-c527ab64d828"
      },
      "execution_count": 26,
      "outputs": [
        {
          "output_type": "execute_result",
          "data": {
            "text/plain": [
              "dict_values(['a', 'b', 'c', 'd'])"
            ]
          },
          "metadata": {},
          "execution_count": 26
        }
      ]
    },
    {
      "cell_type": "markdown",
      "source": [
        "## 5.dict.items( ):\n",
        "\n",
        "Returns a view object containing key-value pairs as tuples"
      ],
      "metadata": {
        "id": "iIvLbURX0-ox"
      }
    },
    {
      "cell_type": "code",
      "source": [
        "mydata = {\"Name\":\"chitranjan\",\"Age\":22,\"City\":\"ara bihar\",\"dob\":2}\n",
        "mydata.items()"
      ],
      "metadata": {
        "colab": {
          "base_uri": "https://localhost:8080/"
        },
        "id": "QOSeUf1U04Kb",
        "outputId": "58a889e2-71f8-42be-fa8b-59eb87a0d670"
      },
      "execution_count": 29,
      "outputs": [
        {
          "output_type": "execute_result",
          "data": {
            "text/plain": [
              "dict_items([('Name', 'chitranjan'), ('Age', 22), ('City', 'ara bihar'), ('dob', 2)])"
            ]
          },
          "metadata": {},
          "execution_count": 29
        }
      ]
    },
    {
      "cell_type": "code",
      "source": [
        "a = {2:\"a\",4:\"b\",5:\"c\",7:\"d\"}\n",
        "a.items()"
      ],
      "metadata": {
        "colab": {
          "base_uri": "https://localhost:8080/"
        },
        "id": "Ii2p6O7g2BSG",
        "outputId": "5b752300-c240-40f3-80cf-7407f8d62fe9"
      },
      "execution_count": 28,
      "outputs": [
        {
          "output_type": "execute_result",
          "data": {
            "text/plain": [
              "dict_items([(2, 'a'), (4, 'b'), (5, 'c'), (7, 'd')])"
            ]
          },
          "metadata": {},
          "execution_count": 28
        }
      ]
    },
    {
      "cell_type": "markdown",
      "source": [
        "## 6.dict.copy( ):\n",
        "\n",
        "Returns a shallow copy of the dictionary."
      ],
      "metadata": {
        "id": "-onik6jx2Vzb"
      }
    },
    {
      "cell_type": "code",
      "source": [
        "mydata2 = mydata.copy()\n",
        "print(mydata)\n",
        "print(mydata2)\n",
        ""
      ],
      "metadata": {
        "colab": {
          "base_uri": "https://localhost:8080/"
        },
        "id": "D0pa8fYw2M97",
        "outputId": "9e337d65-ee4e-48ec-b57c-6d3b0a5cf099"
      },
      "execution_count": 30,
      "outputs": [
        {
          "output_type": "stream",
          "name": "stdout",
          "text": [
            "{'Name': 'chitranjan', 'Age': 22, 'City': 'ara bihar', 'dob': 2}\n",
            "{'Name': 'chitranjan', 'Age': 22, 'City': 'ara bihar', 'dob': 2}\n"
          ]
        }
      ]
    },
    {
      "cell_type": "code",
      "source": [
        "b = a.copy()\n",
        "print(a)\n",
        "print(b)"
      ],
      "metadata": {
        "colab": {
          "base_uri": "https://localhost:8080/"
        },
        "id": "4ui86zm23SSi",
        "outputId": "938b8a2f-eaa5-4b51-c067-7247c6cc0f9d"
      },
      "execution_count": 32,
      "outputs": [
        {
          "output_type": "stream",
          "name": "stdout",
          "text": [
            "{2: 'a', 4: 'b', 5: 'c', 7: 'd'}\n",
            "{2: 'a', 4: 'b', 5: 'c', 7: 'd'}\n"
          ]
        }
      ]
    },
    {
      "cell_type": "markdown",
      "source": [
        "## 7.dict.clear( ):\n",
        "\n",
        "Removes all items from the dictionary.\n",
        "\n"
      ],
      "metadata": {
        "id": "tHjK4u6t3xa2"
      }
    },
    {
      "cell_type": "code",
      "source": [
        "mydata.clear()\n",
        "print(mydata)\n",
        "print(mydata2)"
      ],
      "metadata": {
        "colab": {
          "base_uri": "https://localhost:8080/"
        },
        "id": "VbOR53KP3kOy",
        "outputId": "c29e7f61-e4f4-459e-b8df-704497d511e0"
      },
      "execution_count": 39,
      "outputs": [
        {
          "output_type": "stream",
          "name": "stdout",
          "text": [
            "{}\n",
            "{'Name': 'chitranjan', 'Age': 22, 'City': 'ara bihar', 'dob': 2}\n"
          ]
        }
      ]
    },
    {
      "cell_type": "code",
      "source": [],
      "metadata": {
        "id": "vL4CwnQB51Wp"
      },
      "execution_count": null,
      "outputs": []
    }
  ]
}