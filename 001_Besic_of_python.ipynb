{
  "nbformat": 4,
  "nbformat_minor": 0,
  "metadata": {
    "colab": {
      "provenance": []
    },
    "kernelspec": {
      "name": "python3",
      "display_name": "Python 3"
    },
    "language_info": {
      "name": "python"
    }
  },
  "cells": [
    {
      "cell_type": "markdown",
      "source": [
        "\n",
        "# what is python?\n",
        "\n",
        "Python is a high-level, interpreted programming language known for its simplicity and readability. It,s widely used for various applications\n",
        "\n",
        "created by: Guido van Rossum in 1991\n"
      ],
      "metadata": {
        "id": "p7WPNFwNi0R3"
      }
    },
    {
      "cell_type": "markdown",
      "source": [
        "# why we use python\n",
        "\n",
        "\n",
        "Python is one of the most popular programming languages because of its simplicity, versatility, and powerful libraries and also used for many tasks, age likes:\n",
        "\n",
        ".data analysis\n",
        "\n",
        ".Game Development\n",
        "\n",
        ".machine learning\n",
        "\n",
        ".Web development\n",
        "\n",
        ".Data visualization\n",
        "\n"
      ],
      "metadata": {
        "id": "yqQCfX96tugK"
      }
    },
    {
      "cell_type": "markdown",
      "source": [
        "# appcation of python?\n",
        "\n",
        "\n",
        "Python has a wide range of applications across multiple industries.\n",
        "some list of key areas where Python is used:\n",
        "\n",
        "1.Finance & FinTech\n",
        "2.Data Science & Analytics\n",
        "3.Cybersecurity & Ethical Hacking\n",
        "4.Game Development\n",
        "5.Automation & Scripting\n",
        "6.Machine Learning & Artificial Intelligence\n"
      ],
      "metadata": {
        "id": "j19d1-Q5zcaY"
      }
    },
    {
      "cell_type": "markdown",
      "source": [
        "# Explain about comments with exampes\n",
        "\n",
        "\n",
        ".comment are nothing but ignorable part of python program.\n",
        "that are ignored by interpreter\n",
        ".it enhens the readabilite of cods\n",
        "\n",
        "there are 2-tpes of comments\n",
        "1.single line= it,s start with the # sybol.\n",
        "\n"
      ],
      "metadata": {
        "id": "rmEjMI78ixdb"
      }
    },
    {
      "cell_type": "markdown",
      "source": [
        "# examples\n",
        "\n"
      ],
      "metadata": {
        "id": "TtRQFqwDs_SX"
      }
    },
    {
      "cell_type": "code",
      "source": [
        "#we are Going to lear python comments...\n",
        "print(\"learn python comments...\")"
      ],
      "metadata": {
        "colab": {
          "base_uri": "https://localhost:8080/"
        },
        "id": "ZTmhNfO6tGSA",
        "outputId": "6f3dd64a-060a-4260-963e-afb9e7875a89"
      },
      "execution_count": null,
      "outputs": [
        {
          "output_type": "stream",
          "name": "stdout",
          "text": [
            "learn python comments...\n"
          ]
        }
      ]
    },
    {
      "cell_type": "markdown",
      "source": [
        "## 2.multi -line comments\n",
        "\n",
        "python does not have a specific multi-line comment syntax, but we can use triple quotes (''' or \"\"\") to create multi-line comments. These are technically multi-line strings, but if they are not assigned to a variable, they act as comments."
      ],
      "metadata": {
        "id": "ET6uH6j6yM2d"
      }
    },
    {
      "cell_type": "code",
      "source": [
        "# we are Going to lear python comments...\n",
        "print(\"learn python comments...\")\n",
        "\"\"\"print(\"chitranjan\")\n",
        "print(\"ankush\")\"\"\""
      ],
      "metadata": {
        "colab": {
          "base_uri": "https://localhost:8080/",
          "height": 53
        },
        "id": "uRk3rpSc0aMM",
        "outputId": "5d501e5d-4cad-499d-cc80-584eb9d70109"
      },
      "execution_count": null,
      "outputs": [
        {
          "output_type": "stream",
          "name": "stdout",
          "text": [
            "learn python comments...\n"
          ]
        },
        {
          "output_type": "execute_result",
          "data": {
            "text/plain": [
              "'print(\"chitranjan\")\\nprint(\"ankush\")'"
            ],
            "application/vnd.google.colaboratory.intrinsic+json": {
              "type": "string"
            }
          },
          "metadata": {},
          "execution_count": 12
        }
      ]
    },
    {
      "cell_type": "markdown",
      "source": [
        "# Explain about keywords\n",
        "\n",
        "In Python, keywords are reserved words that have special meanings and purposes within the language's syntax. They cannot be used as identifiers (variable names, function names, etc.) because they are already part of the language's structure\n",
        "\n",
        "# There are 35 keyword in python\n",
        "\n",
        "1. False      2.await     3.else      4.import    5. pass\n",
        "6.None       7.break      8.except    9.in        10.raise\n",
        "11.class     12.finally   13.is      14.return     15.and   \n",
        "16.continue   17.for    18.lambda  19. try         20.as        \n",
        "21.def      22.from       23.nonlocal  24.while   25.assert    \n",
        "26.del     27.global     28.not        29.with    30.true\n",
        "31.async      32.elif      33.if         34.or    35.yield\n"
      ],
      "metadata": {
        "id": "qd3gLfOe5XNG"
      }
    }
  ]
}