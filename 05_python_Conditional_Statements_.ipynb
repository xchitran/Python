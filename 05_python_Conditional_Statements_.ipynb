{
  "nbformat": 4,
  "nbformat_minor": 0,
  "metadata": {
    "colab": {
      "provenance": []
    },
    "kernelspec": {
      "name": "python3",
      "display_name": "Python 3"
    },
    "language_info": {
      "name": "python"
    }
  },
  "cells": [
    {
      "cell_type": "markdown",
      "source": [
        "Conditional Statements:\n",
        "\n",
        "1.If statement: If statement is the simplest form of a conditional statement.\n",
        "\n",
        " It executes a block of code if the given condition is true.\n",
        "\n",
        "\n"
      ],
      "metadata": {
        "id": "GLx2cihBYGkZ"
      }
    },
    {
      "cell_type": "code",
      "execution_count": null,
      "metadata": {
        "colab": {
          "base_uri": "https://localhost:8080/"
        },
        "id": "Rmp0Me8BX-Dm",
        "outputId": "b66d16ad-792a-467c-943e-bb4cb15d8adf"
      },
      "outputs": [
        {
          "output_type": "stream",
          "name": "stdout",
          "text": [
            "Enter a number:22\n",
            "Given Number is positive\n"
          ]
        }
      ],
      "source": [
        "a = int(input(\"Enter a number:\"))\n",
        "if a > 0:\n",
        "  print(\"Given Number is positive\")\n"
      ]
    },
    {
      "cell_type": "markdown",
      "source": [
        "2.if-else( ):Executes one block if the condition is True then gives the output, otherwise executes another block.\n",
        "\n"
      ],
      "metadata": {
        "id": "XG4FL1HE-LJ1"
      }
    },
    {
      "cell_type": "code",
      "source": [
        "a = int(input(\"Enter your age\"))\n",
        "if a >= 18:\n",
        "  print(\"You are eligible for voting\")\n",
        "else:\n",
        "  print(\"You are not eligible for voting\")\n",
        "\n"
      ],
      "metadata": {
        "colab": {
          "base_uri": "https://localhost:8080/"
        },
        "id": "uXdXAUu2-F68",
        "outputId": "bafd7058-7938-4785-b0d1-a487da7bf067"
      },
      "execution_count": null,
      "outputs": [
        {
          "output_type": "stream",
          "name": "stdout",
          "text": [
            "Enter your age18\n",
            "You are eligible for voting\n"
          ]
        }
      ]
    },
    {
      "cell_type": "code",
      "source": [
        "a = int(input(\"Enter your age\"))\n",
        "if a >= 18:\n",
        "  print(\"You are eligible for voting\")\n",
        "else:\n",
        "  print(\"You are not eligible for voting\")"
      ],
      "metadata": {
        "colab": {
          "base_uri": "https://localhost:8080/"
        },
        "id": "LP394CEp-rlX",
        "outputId": "cca846d1-bf69-454a-a9eb-e97a330924b4"
      },
      "execution_count": null,
      "outputs": [
        {
          "output_type": "stream",
          "name": "stdout",
          "text": [
            "Enter your age17\n",
            "You are not eligible for voting\n"
          ]
        }
      ]
    },
    {
      "cell_type": "markdown",
      "source": [
        "3) elif: Allows checking multiple conditions"
      ],
      "metadata": {
        "id": "MqDRauZc_IGG"
      }
    },
    {
      "cell_type": "code",
      "source": [
        "\n",
        "a = int(input(\"Enter a number:\"))\n",
        "if a > 0:\n",
        "  print(\"Given number is positive\")\n",
        "elif a < 0:\n",
        "  print(\"Given number is negative\")\n",
        "else:\n",
        "  print(\"Given number is zero\")\n"
      ],
      "metadata": {
        "colab": {
          "base_uri": "https://localhost:8080/"
        },
        "id": "mU6vTbdq-wOA",
        "outputId": "1aa02349-f8ae-4603-f0b8-950483eac08c"
      },
      "execution_count": null,
      "outputs": [
        {
          "output_type": "stream",
          "name": "stdout",
          "text": [
            "Enter a number:20\n",
            "Given number is positive\n"
          ]
        }
      ]
    },
    {
      "cell_type": "code",
      "source": [
        "\n",
        "a = int(input(\"Enter a number:\"))\n",
        "if a > 0:\n",
        "  print(\"Given number is positive\")\n",
        "elif a < 0:\n",
        "  print(\"Given number is negative\")\n",
        "else:\n",
        "  print(\"Given number is zero\")"
      ],
      "metadata": {
        "colab": {
          "base_uri": "https://localhost:8080/"
        },
        "id": "2QdL0iYz_ZWg",
        "outputId": "32d28a87-e628-4b32-8c74-f7d5c2181167"
      },
      "execution_count": null,
      "outputs": [
        {
          "output_type": "stream",
          "name": "stdout",
          "text": [
            "Enter a number:-20\n",
            "Given number is negative\n"
          ]
        }
      ]
    },
    {
      "cell_type": "markdown",
      "source": [
        "# **TEST**"
      ],
      "metadata": {
        "id": "KtU88XnB_tTL"
      }
    },
    {
      "cell_type": "code",
      "source": [
        "# write a program to find maximum among three numbers\n",
        "a,b,c = 11,22,333\n",
        "if a>b and a>c:\n",
        "  print(\"a is greater number\")\n",
        "elif b>a and b>c:\n",
        "  print(\"b is greater number\")\n",
        "else:\n",
        "  print(\"c is greater number\")"
      ],
      "metadata": {
        "colab": {
          "base_uri": "https://localhost:8080/"
        },
        "id": "2e_vvoyd_eOM",
        "outputId": "2be09a94-57e6-4ee5-9d3e-ff9af3118c3a"
      },
      "execution_count": null,
      "outputs": [
        {
          "output_type": "stream",
          "name": "stdout",
          "text": [
            "c is greater number\n"
          ]
        }
      ]
    },
    {
      "cell_type": "code",
      "source": [
        "# write a pyhton program for grading system\n",
        "marks = int(input(\"Enter Your Marks: \"))\n",
        "if marks >= 100:\n",
        "  print(\"Grade A\")\n",
        "elif marks >= 90 and marks <100:\n",
        "  print(\"Grade B\")\n",
        "elif marks >= 80 and marks <90:\n",
        "  print(\"Grade C\")\n",
        "elif marks >= 70 and marks <80:\n",
        "  print(\"Grade D\")\n",
        "else:\n",
        "  print(\"You Are Fail\")"
      ],
      "metadata": {
        "colab": {
          "base_uri": "https://localhost:8080/"
        },
        "id": "sjsNyKTnAI8Q",
        "outputId": "9ed8253a-6400-4960-ef32-9436d063df31"
      },
      "execution_count": null,
      "outputs": [
        {
          "output_type": "stream",
          "name": "stdout",
          "text": [
            "Enter Your Marks: 84\n",
            "Grade C\n"
          ]
        }
      ]
    },
    {
      "cell_type": "code",
      "source": [
        "# write a pyhton program for grading system\n",
        "marks = int(input(\"Enter Your Marks: \"))\n",
        "if marks >= 100:\n",
        "  print(\"Grade A\")\n",
        "elif marks >= 90 and marks <100:\n",
        "  print(\"Grade B\")\n",
        "elif marks >= 80 and marks <90:\n",
        "  print(\"Grade C\")\n",
        "elif marks >= 70 and marks <80:\n",
        "  print(\"Grade D\")\n",
        "else:\n",
        "  print(\"You Are Fail\")"
      ],
      "metadata": {
        "colab": {
          "base_uri": "https://localhost:8080/"
        },
        "id": "gyhR1GFEBLIS",
        "outputId": "0d83acc3-e8a0-4edb-a377-ed3140ebbdd0"
      },
      "execution_count": null,
      "outputs": [
        {
          "output_type": "stream",
          "name": "stdout",
          "text": [
            "Enter Your Marks: 69\n",
            "You Are Fail\n"
          ]
        }
      ]
    },
    {
      "cell_type": "code",
      "source": [
        "# write a program to find given char is vowel or not\n",
        "char = input(\"Enter a character: \")\n",
        "if char in \"aeiouAEIOU\":\n",
        "  print(\" is a vowel.\")\n",
        "else:\n",
        "  print(\"is not a vowel.\")\n"
      ],
      "metadata": {
        "colab": {
          "base_uri": "https://localhost:8080/"
        },
        "id": "rAcEI0g3BSQX",
        "outputId": "c3290abd-1ce2-4344-a0d4-3e5dd4bd0680"
      },
      "execution_count": null,
      "outputs": [
        {
          "output_type": "stream",
          "name": "stdout",
          "text": [
            "Enter a character: I\n",
            " is a vowel.\n"
          ]
        }
      ]
    },
    {
      "cell_type": "code",
      "source": [
        "# write a program to find given char is vowel or not\n",
        "char = input(\"Enter a character: \")\n",
        "if char in \"aeiouAEIOU\":\n",
        "  print(\" is a vowel.\")\n",
        "else:\n",
        "  print(\"is not a vowel.\")\n"
      ],
      "metadata": {
        "colab": {
          "base_uri": "https://localhost:8080/"
        },
        "id": "R_7ARStxBbyB",
        "outputId": "20899f37-23fa-425f-fe96-ab361e08d40f"
      },
      "execution_count": null,
      "outputs": [
        {
          "output_type": "stream",
          "name": "stdout",
          "text": [
            "Enter a character: J\n",
            "is not a vowel.\n"
          ]
        }
      ]
    },
    {
      "cell_type": "code",
      "source": [
        "# write a program to swap two numbers\n",
        "a = 50\n",
        "b = 60\n",
        "a,b = b,a\n",
        "print(a)\n",
        "print(b)"
      ],
      "metadata": {
        "colab": {
          "base_uri": "https://localhost:8080/"
        },
        "id": "syzUbO2rBk-S",
        "outputId": "7e74f1b3-4c9d-477c-95b7-22f80473cef9"
      },
      "execution_count": null,
      "outputs": [
        {
          "output_type": "stream",
          "name": "stdout",
          "text": [
            "60\n",
            "50\n"
          ]
        }
      ]
    },
    {
      "cell_type": "code",
      "source": [
        "a = int(input(\"enter a number\"))\n",
        "b = int(input(\"Enter a number\"))\n",
        "if a!= b:\n",
        "  a = a+b\n",
        "  b = a-b\n",
        "  a = a-b\n",
        "  print(a)\n",
        "  print(b)\n",
        "else:\n",
        "  print(\"Both numbers are equal\")"
      ],
      "metadata": {
        "colab": {
          "base_uri": "https://localhost:8080/"
        },
        "id": "KPMpHB7IBwCo",
        "outputId": "64b4d16c-67b9-47f9-94e8-e218438afabd"
      },
      "execution_count": null,
      "outputs": [
        {
          "output_type": "stream",
          "name": "stdout",
          "text": [
            "enter a number50\n",
            "Enter a number50\n",
            "Both numbers are equal\n"
          ]
        }
      ]
    },
    {
      "cell_type": "code",
      "source": [
        "a=int(input(\"Enter a number\"))\n",
        "b= int(input(\"Enter a number\"))\n",
        "print(\"before swapping\",a,b)\n",
        "if True:\n",
        "  a,b = b,a\n",
        "  print(\"after swapping\",a,b)\n"
      ],
      "metadata": {
        "colab": {
          "base_uri": "https://localhost:8080/"
        },
        "id": "77aVA0fuB5FH",
        "outputId": "605f9641-8987-4c72-e6cc-14212f5c72ee"
      },
      "execution_count": null,
      "outputs": [
        {
          "output_type": "stream",
          "name": "stdout",
          "text": [
            "Enter a number50\n",
            "Enter a number60\n",
            "before swapping 50 60\n",
            "after swapping 60 50\n"
          ]
        }
      ]
    },
    {
      "cell_type": "code",
      "source": [],
      "metadata": {
        "id": "dJMGMeAeCV3C"
      },
      "execution_count": null,
      "outputs": []
    }
  ]
}