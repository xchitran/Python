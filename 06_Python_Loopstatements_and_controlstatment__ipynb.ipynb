{
  "nbformat": 4,
  "nbformat_minor": 0,
  "metadata": {
    "colab": {
      "provenance": []
    },
    "kernelspec": {
      "name": "python3",
      "display_name": "Python 3"
    },
    "language_info": {
      "name": "python"
    }
  },
  "cells": [
    {
      "cell_type": "markdown",
      "source": [
        "# Loop Statements:\n",
        "\n",
        "1. while Loop:\n",
        "\n",
        "With the while loop we can execute a set of statements as long as a condition is true.\n",
        "\n",
        "It is useful when the number of iterations is unknown beforehand.\n",
        "\n",
        "remember to increment i, or else the loop will continue forever.\n",
        "\n"
      ],
      "metadata": {
        "id": "HLiaTOLHEwzj"
      }
    },
    {
      "cell_type": "code",
      "execution_count": 3,
      "metadata": {
        "id": "i7wfgKpvEH9x"
      },
      "outputs": [],
      "source": [
        "#Syntax:\n",
        "#while condition:  Code block to execute"
      ]
    },
    {
      "cell_type": "code",
      "source": [
        "#while statement\n",
        "#Example-6\n",
        "i=7\n",
        "while i<=15:\n",
        "  print(i)\n",
        "  i=i+1\n",
        ""
      ],
      "metadata": {
        "colab": {
          "base_uri": "https://localhost:8080/"
        },
        "id": "8TDnqnMCHRqo",
        "outputId": "c03a7c05-f9b5-462f-cdac-30aa2983e533"
      },
      "execution_count": 5,
      "outputs": [
        {
          "output_type": "stream",
          "name": "stdout",
          "text": [
            "7\n",
            "8\n",
            "9\n",
            "10\n",
            "11\n",
            "12\n",
            "13\n",
            "14\n",
            "15\n"
          ]
        }
      ]
    },
    {
      "cell_type": "code",
      "source": [
        "#Example-2:\n",
        "x = 7\n",
        "while x <= 15:\n",
        "    x += 1\n",
        "    print(x)"
      ],
      "metadata": {
        "colab": {
          "base_uri": "https://localhost:8080/"
        },
        "id": "V4P9mw36HvZ5",
        "outputId": "f256299c-57e2-4fae-910b-245b7073bc52"
      },
      "execution_count": 6,
      "outputs": [
        {
          "output_type": "stream",
          "name": "stdout",
          "text": [
            "8\n",
            "9\n",
            "10\n",
            "11\n",
            "12\n",
            "13\n",
            "14\n",
            "15\n",
            "16\n"
          ]
        }
      ]
    },
    {
      "cell_type": "code",
      "source": [
        "\n",
        "#Example-3:\n",
        "x = 7\n",
        "while x <= 15:\n",
        "    print(x)\n",
        "    x += 1"
      ],
      "metadata": {
        "colab": {
          "base_uri": "https://localhost:8080/"
        },
        "id": "m0Dt2Cp5IJDS",
        "outputId": "2cce2b68-55e7-4089-c8c3-5609fd01150a"
      },
      "execution_count": 7,
      "outputs": [
        {
          "output_type": "stream",
          "name": "stdout",
          "text": [
            "7\n",
            "8\n",
            "9\n",
            "10\n",
            "11\n",
            "12\n",
            "13\n",
            "14\n",
            "15\n"
          ]
        }
      ]
    },
    {
      "cell_type": "markdown",
      "source": [
        "# 2.for loop:\n",
        "\n",
        ".A for loop in Python is used to iterate over a sequence (such as a list, tuple, dictionary, string, or range).\n",
        "\n",
        ".It executes a block of code for each item in the sequence."
      ],
      "metadata": {
        "id": "5ssQrsv6IqyW"
      }
    },
    {
      "cell_type": "code",
      "source": [
        "#Syntax:\n",
        "#for variable in sequence:  Code block to execute\n",
        "\n",
        "\n",
        "age=[13,26,39,52,65]#List\n",
        "for i in age:\n",
        "  print(\"My age is\",i)"
      ],
      "metadata": {
        "colab": {
          "base_uri": "https://localhost:8080/"
        },
        "id": "hl2KptYpIVcp",
        "outputId": "6c0591f8-5944-4636-d0fc-6ccff83abb17"
      },
      "execution_count": 10,
      "outputs": [
        {
          "output_type": "stream",
          "name": "stdout",
          "text": [
            "My age is 13\n",
            "My age is 26\n",
            "My age is 39\n",
            "My age is 52\n",
            "My age is 65\n"
          ]
        }
      ]
    },
    {
      "cell_type": "code",
      "source": [
        "string=\"chitranjan\"#string\n",
        "for i in string:\n",
        "  print(i)"
      ],
      "metadata": {
        "colab": {
          "base_uri": "https://localhost:8080/"
        },
        "id": "5780reuZJLXs",
        "outputId": "9d80390b-b651-4b0c-c40d-08c3288129fa"
      },
      "execution_count": 12,
      "outputs": [
        {
          "output_type": "stream",
          "name": "stdout",
          "text": [
            "c\n",
            "h\n",
            "i\n",
            "t\n",
            "r\n",
            "a\n",
            "n\n",
            "j\n",
            "a\n",
            "n\n"
          ]
        }
      ]
    },
    {
      "cell_type": "code",
      "source": [
        "tup=(\"sagar\",\"pawan\",\"ballu\",\"kumar chitranjan\")#tuple\n",
        "for kumar in tup:\n",
        "  print(kumar)"
      ],
      "metadata": {
        "colab": {
          "base_uri": "https://localhost:8080/"
        },
        "id": "dhDbPUydJyfR",
        "outputId": "e26e5df9-35de-4819-fee8-d32eee0e2cf6"
      },
      "execution_count": 15,
      "outputs": [
        {
          "output_type": "stream",
          "name": "stdout",
          "text": [
            "sagar\n",
            "pawan\n",
            "ballu\n",
            "kumar chitranjan\n"
          ]
        }
      ]
    },
    {
      "cell_type": "code",
      "source": [
        "st={1,2,3,4,5,6,7,8,}#set\n",
        "for a in st:\n",
        "  print(a)"
      ],
      "metadata": {
        "colab": {
          "base_uri": "https://localhost:8080/"
        },
        "id": "rO_24hddKOdw",
        "outputId": "ab6d1332-d81b-43d5-ac1f-0c8123ee7114"
      },
      "execution_count": 18,
      "outputs": [
        {
          "output_type": "stream",
          "name": "stdout",
          "text": [
            "1\n",
            "2\n",
            "3\n",
            "4\n",
            "5\n",
            "6\n",
            "7\n",
            "8\n"
          ]
        }
      ]
    },
    {
      "cell_type": "code",
      "source": [
        "dic={\"name\":\"chitranjan\",\"age\":22,\"place\":\"bihar\"}#dictionary\n",
        "for key,value in dic.items():\n",
        "  print(f'my key is {key} and my value is {value}')"
      ],
      "metadata": {
        "colab": {
          "base_uri": "https://localhost:8080/"
        },
        "id": "6S47vsYELRYl",
        "outputId": "95bf7312-3d8f-41d7-e48f-1cb5af484d0a"
      },
      "execution_count": 19,
      "outputs": [
        {
          "output_type": "stream",
          "name": "stdout",
          "text": [
            "my key is name and my value is chitranjan\n",
            "my key is age and my value is 22\n",
            "my key is place and my value is bihar\n"
          ]
        }
      ]
    },
    {
      "cell_type": "code",
      "source": [
        "for i in range(25,30):#last value is(n-1)\n",
        "  print(i)"
      ],
      "metadata": {
        "colab": {
          "base_uri": "https://localhost:8080/"
        },
        "id": "MvSrNGYcLi0C",
        "outputId": "89941878-6d50-4180-b4a6-d3b192145589"
      },
      "execution_count": 22,
      "outputs": [
        {
          "output_type": "stream",
          "name": "stdout",
          "text": [
            "25\n",
            "26\n",
            "27\n",
            "28\n",
            "29\n"
          ]
        }
      ]
    },
    {
      "cell_type": "markdown",
      "source": [
        "# Control Statements:\n",
        "\n",
        ".Control statements alter the flow of execution in loops and conditional statements.\n",
        "\n",
        ".The three main control statements are pass, continue, and break.\n",
        "\n",
        "## 1.pass:\n",
        "\n",
        ".The pass statement is a placeholder and does nothing when executed.\n",
        "\n",
        ".It is useful when a block of code is syntactically required but not yet implemented."
      ],
      "metadata": {
        "id": "P1j16-dvMcvM"
      }
    },
    {
      "cell_type": "code",
      "source": [
        "for i in range(10,20):#pass\n",
        "  if i==2:\n",
        "    pass\n",
        "  else:\n",
        "    print(i)"
      ],
      "metadata": {
        "colab": {
          "base_uri": "https://localhost:8080/"
        },
        "id": "WLJBDMZJMbvl",
        "outputId": "6eb933ef-6bf3-44a7-a982-1640663398f4"
      },
      "execution_count": 29,
      "outputs": [
        {
          "output_type": "stream",
          "name": "stdout",
          "text": [
            "10\n",
            "11\n",
            "12\n",
            "13\n",
            "14\n",
            "15\n",
            "16\n",
            "17\n",
            "18\n",
            "19\n"
          ]
        }
      ]
    },
    {
      "cell_type": "markdown",
      "source": [
        "2.Continue:\n",
        "\n",
        ".It is used to skip a specific iteration in a loop.\n",
        "\n",
        ".The loop does not terminate; it continues with the next iteration."
      ],
      "metadata": {
        "id": "thcs6HyzNSXd"
      }
    },
    {
      "cell_type": "code",
      "source": [
        "for a in range(10,20):#continue\n",
        "  if a==15:\n",
        "    continue\n",
        "  else:\n",
        "    print(a)\n",
        ""
      ],
      "metadata": {
        "colab": {
          "base_uri": "https://localhost:8080/"
        },
        "id": "i5YgrPanMwfS",
        "outputId": "550e205e-889e-4770-804b-74eb39fe0418"
      },
      "execution_count": 31,
      "outputs": [
        {
          "output_type": "stream",
          "name": "stdout",
          "text": [
            "10\n",
            "11\n",
            "12\n",
            "13\n",
            "14\n",
            "16\n",
            "17\n",
            "18\n",
            "19\n"
          ]
        }
      ]
    },
    {
      "cell_type": "markdown",
      "source": [
        "## 3.break:\n",
        "\n",
        ".It is used to exit a loop immediately.\n",
        "\n",
        ".Any code after break inside the loop is not executed"
      ],
      "metadata": {
        "id": "PLt6b16-ODZ7"
      }
    },
    {
      "cell_type": "code",
      "source": [
        "#Ex-1\n",
        "for a in range(30):\n",
        "  if a==21:\n",
        "    break # Stop the loop when i is 15\n",
        "  else:\n",
        "    print(a)\n",
        "\n",
        ""
      ],
      "metadata": {
        "colab": {
          "base_uri": "https://localhost:8080/"
        },
        "id": "UnWqmkZEN0QR",
        "outputId": "33988f32-070f-457b-f2b1-941b1ad0b467"
      },
      "execution_count": 34,
      "outputs": [
        {
          "output_type": "stream",
          "name": "stdout",
          "text": [
            "0\n",
            "1\n",
            "2\n",
            "3\n",
            "4\n",
            "5\n",
            "6\n",
            "7\n",
            "8\n",
            "9\n",
            "10\n",
            "11\n",
            "12\n",
            "13\n",
            "14\n",
            "15\n",
            "16\n",
            "17\n",
            "18\n",
            "19\n",
            "20\n"
          ]
        }
      ]
    },
    {
      "cell_type": "code",
      "source": [
        "#Ex-2 Stop loop when word is found\n",
        "\n",
        "words = [\"A\", \"B\", \"C\", \"D\"]\n",
        "for word in words:\n",
        "    if word == \"C\":\n",
        "        break\n",
        "    print(word)"
      ],
      "metadata": {
        "colab": {
          "base_uri": "https://localhost:8080/"
        },
        "id": "T7FxUlwhOryk",
        "outputId": "5f50c9ff-8141-4469-c988-7f41d2a2a231"
      },
      "execution_count": 38,
      "outputs": [
        {
          "output_type": "stream",
          "name": "stdout",
          "text": [
            "A\n",
            "B\n"
          ]
        }
      ]
    }
  ]
}