{
  "nbformat": 4,
  "nbformat_minor": 0,
  "metadata": {
    "colab": {
      "provenance": []
    },
    "kernelspec": {
      "name": "python3",
      "display_name": "Python 3"
    },
    "language_info": {
      "name": "python"
    }
  },
  "cells": [
    {
      "cell_type": "markdown",
      "source": [
        "## advance data types in python\n",
        "\n",
        "1. list\n",
        "2. string\n",
        "3. tuple\n",
        "4. dectnori\n",
        "5. set"
      ],
      "metadata": {
        "id": "IGDE7hKS_agY"
      }
    },
    {
      "cell_type": "markdown",
      "source": [
        "# List:\n",
        "\n",
        "ans-. A list in Python is used to keep multiple items together.\n",
        ". It's a collection that can store different types of data (numbers, words, or any other lists).\n",
        ". Lists are ordered(the items stay in the same sequence), and they can be changed mutable(add, remove, or modify items)."
      ],
      "metadata": {
        "id": "ChGHHBiOAkaD"
      }
    },
    {
      "cell_type": "code",
      "execution_count": null,
      "metadata": {
        "colab": {
          "base_uri": "https://localhost:8080/"
        },
        "id": "3N8JDMEm8myq",
        "outputId": "c2aac20a-bf1f-4065-fb0a-6034ef97c50a"
      },
      "outputs": [
        {
          "output_type": "stream",
          "name": "stdout",
          "text": [
            "[('potato', 27.5), ('mango', 50), ('banana', 20)]\n"
          ]
        }
      ],
      "source": [
        "price=[(\"potato\",27.5),(\"mango\",50),(\"banana\",20)]\n",
        "print(price)\n"
      ]
    },
    {
      "cell_type": "code",
      "source": [
        "pepole = [\"Ram\", 56, 5.6, True]\n",
        "print(pepole)"
      ],
      "metadata": {
        "colab": {
          "base_uri": "https://localhost:8080/"
        },
        "id": "PVfeweShCGcV",
        "outputId": "f9ac5447-9b52-42d8-ab46-cd4d698c83ae"
      },
      "execution_count": null,
      "outputs": [
        {
          "output_type": "stream",
          "name": "stdout",
          "text": [
            "['Ram', 56, 5.6, True]\n"
          ]
        }
      ]
    },
    {
      "cell_type": "code",
      "source": [
        "numbers = [5, 7, 3, 8, 5]\n",
        "print(numbers)\n"
      ],
      "metadata": {
        "colab": {
          "base_uri": "https://localhost:8080/"
        },
        "id": "mHv0a1CWCYbN",
        "outputId": "f142dd36-a1d1-4293-cd6b-b675a417caf0"
      },
      "execution_count": null,
      "outputs": [
        {
          "output_type": "stream",
          "name": "stdout",
          "text": [
            "[5, 7, 3, 8, 5]\n"
          ]
        }
      ]
    },
    {
      "cell_type": "code",
      "source": [
        "colors = [\"red\", \"orenge\", \"blue\" \"yello\"]\n",
        "print(colors)\n"
      ],
      "metadata": {
        "colab": {
          "base_uri": "https://localhost:8080/"
        },
        "id": "SGF7Xc6_EO8P",
        "outputId": "b0f50964-666d-474b-9e5a-0a1465a23477"
      },
      "execution_count": null,
      "outputs": [
        {
          "output_type": "stream",
          "name": "stdout",
          "text": [
            "['red', 'orenge', 'blueyello']\n"
          ]
        }
      ]
    },
    {
      "cell_type": "markdown",
      "source": [
        "## INDEXING:\n",
        "\n",
        "ans-Indexing is used to access elements from a list.\n",
        "Positive Indexing starts from 0 (left to right).\n",
        "Negative Indexing starts from -1 (right to left).\n"
      ],
      "metadata": {
        "id": "E8dpsdipGQFT"
      }
    },
    {
      "cell_type": "code",
      "source": [
        "fruits = [ \"banana\", \"cherry\", \"mango\", \"whatermelon\"]\n",
        "print(fruits[0])"
      ],
      "metadata": {
        "colab": {
          "base_uri": "https://localhost:8080/"
        },
        "id": "2wGMGgJeGO3j",
        "outputId": "b8e67fc0-6c3a-4fe1-aafc-7acc894829a2"
      },
      "execution_count": null,
      "outputs": [
        {
          "output_type": "stream",
          "name": "stdout",
          "text": [
            "banana\n"
          ]
        }
      ]
    },
    {
      "cell_type": "code",
      "source": [
        "fruits = [ \"banana\", \"cherry\", \"mango\", \"whatermelon\"]\n",
        "print(fruits[-1])"
      ],
      "metadata": {
        "colab": {
          "base_uri": "https://localhost:8080/"
        },
        "id": "_e6MQERSHFUo",
        "outputId": "85aee0af-2e5a-4f0c-a0db-b3219eda7ece"
      },
      "execution_count": null,
      "outputs": [
        {
          "output_type": "stream",
          "name": "stdout",
          "text": [
            "whatermelon\n"
          ]
        }
      ]
    },
    {
      "cell_type": "code",
      "source": [
        "numbers = [10, 20, 40, 60, 50,70, 90]\n",
        "print(numbers[2])\n",
        "print(numbers[-5])\n"
      ],
      "metadata": {
        "colab": {
          "base_uri": "https://localhost:8080/"
        },
        "id": "aOTeC0roHSYJ",
        "outputId": "5a9267a7-0a7f-481f-ebc4-da2490c93e72"
      },
      "execution_count": null,
      "outputs": [
        {
          "output_type": "stream",
          "name": "stdout",
          "text": [
            "40\n",
            "40\n"
          ]
        }
      ]
    },
    {
      "cell_type": "markdown",
      "source": [
        "#SLICING:\n",
        "\n",
        "ans-.Slicing is a technique used to extract a portion of a list, string, or tuple by specifying a range of indices.\n",
        ". It helps in selecting multiple elements efficiently without using loops.\n"
      ],
      "metadata": {
        "id": "lmH0dWnXI625"
      }
    },
    {
      "cell_type": "code",
      "source": [
        "tex=(\"welcom to teks acedmy\")\n",
        "print(tex[3:7]) #list[start:end]\n",
        "print(tex[:7])  #list[:end]\n",
        "print(tex[3:]) #list[start:]\n",
        "print(tex[:]) # by defalt all\n",
        "print(tex[7::3])# start to jump\n",
        "print(tex[-7:-3])#list[-start:-end]\n",
        "print(tex[::-3])#Reversing List (list[::-3])\n",
        "\n"
      ],
      "metadata": {
        "colab": {
          "base_uri": "https://localhost:8080/"
        },
        "id": "eRgjolx2Hxyu",
        "outputId": "54749cac-81fd-448f-84f6-68ee3b008faa"
      },
      "execution_count": null,
      "outputs": [
        {
          "output_type": "stream",
          "name": "stdout",
          "text": [
            "com \n",
            "welcom \n",
            "com to teks acedmy\n",
            "welcom to teks acedmy\n",
            "ttscm\n",
            " ace\n",
            "ye eoml\n"
          ]
        }
      ]
    },
    {
      "cell_type": "markdown",
      "source": [
        "# List (Methods)"
      ],
      "metadata": {
        "id": "kHLnJhsIaPVE"
      }
    },
    {
      "cell_type": "markdown",
      "source": [
        "# 1.apped()\n",
        "\n",
        "ans-append a single eliment passed as an argument\n",
        "at the end of the list the signle element can also\n",
        "be a list.\n",
        "\n",
        "\n"
      ],
      "metadata": {
        "id": "-xfZpLc0aSRE"
      }
    },
    {
      "cell_type": "code",
      "source": [
        "teks=[1,2,3,4,5,6,]\n",
        "teks.append(7)\n",
        "print(teks)\n"
      ],
      "metadata": {
        "colab": {
          "base_uri": "https://localhost:8080/"
        },
        "id": "_ex22vuyZY8J",
        "outputId": "49957e38-4082-48b7-d8e6-c35e23b05f23"
      },
      "execution_count": null,
      "outputs": [
        {
          "output_type": "stream",
          "name": "stdout",
          "text": [
            "[1, 2, 3, 4, 5, 6, 7]\n"
          ]
        }
      ]
    },
    {
      "cell_type": "markdown",
      "source": [
        "# 2.Extend( )\n",
        "\n",
        "\n",
        "ans-append each eliment of the list passed as\n",
        "argument to the end of the given list."
      ],
      "metadata": {
        "id": "txsVCU4PeobT"
      }
    },
    {
      "cell_type": "code",
      "source": [
        "teks1=[1,2,3,4,5,6,]\n",
        "teks2=[7,8,9]\n",
        "teks1.extend(teks2)\n",
        "print(teks1)"
      ],
      "metadata": {
        "colab": {
          "base_uri": "https://localhost:8080/"
        },
        "id": "t3vxr2Qkeg0m",
        "outputId": "6de9126a-590e-4d27-c795-fa74ba0e056e"
      },
      "execution_count": 1,
      "outputs": [
        {
          "output_type": "stream",
          "name": "stdout",
          "text": [
            "[1, 2, 3, 4, 5, 6, 7, 8, 9]\n"
          ]
        }
      ]
    },
    {
      "cell_type": "markdown",
      "source": [
        "# 3.pop()\n",
        "\n",
        " ans-Removes and returns the element at a given index.\n",
        "Default is the last element."
      ],
      "metadata": {
        "id": "g-_x2VxPtWUC"
      }
    },
    {
      "cell_type": "code",
      "source": [
        "code=[7,8,3,9,10]\n",
        "code.pop(4)\n",
        "print(code)"
      ],
      "metadata": {
        "id": "anIqjigQgf8A",
        "colab": {
          "base_uri": "https://localhost:8080/"
        },
        "outputId": "f7f20343-29b2-44a3-fa7c-571225c6047a"
      },
      "execution_count": 5,
      "outputs": [
        {
          "output_type": "stream",
          "name": "stdout",
          "text": [
            "[7, 8, 3, 9]\n"
          ]
        }
      ]
    },
    {
      "cell_type": "markdown",
      "source": [
        "# 4.Insert( )\n",
        "\n",
        "ans-The insert method in Python is used with lists to insert an element at a specific index.\n"
      ],
      "metadata": {
        "id": "MCtGY4kbv0cn"
      }
    },
    {
      "cell_type": "code",
      "source": [
        "teks=[5,10,15,20,25,30,35,40]\n",
        "teks.insert(5,3)\n",
        "print(teks)"
      ],
      "metadata": {
        "colab": {
          "base_uri": "https://localhost:8080/"
        },
        "id": "q4iBLc8Ivzcn",
        "outputId": "4465f2c1-f94d-48c1-d188-7ee0207a116c"
      },
      "execution_count": 23,
      "outputs": [
        {
          "output_type": "stream",
          "name": "stdout",
          "text": [
            "[5, 10, 15, 20, 25, 3, 30, 35, 40]\n"
          ]
        }
      ]
    },
    {
      "cell_type": "markdown",
      "source": [
        "# 5.len()\n",
        "\n",
        "ans-The len function is used to get the number of elements in a sequence (like lists, tuples, strings) or the number of keys in a dictionary."
      ],
      "metadata": {
        "id": "8BP1HwCj1Hp2"
      }
    },
    {
      "cell_type": "code",
      "source": [
        "teks=[2,4,6,8,9]\n",
        "len(teks)\n"
      ],
      "metadata": {
        "colab": {
          "base_uri": "https://localhost:8080/"
        },
        "id": "Y1PvntYP1CSG",
        "outputId": "aefcccb2-cdcb-442e-867e-fb534f7de835"
      },
      "execution_count": 25,
      "outputs": [
        {
          "output_type": "execute_result",
          "data": {
            "text/plain": [
              "5"
            ]
          },
          "metadata": {},
          "execution_count": 25
        }
      ]
    },
    {
      "cell_type": "markdown",
      "source": [
        "# 6.count( )\n",
        "\n",
        "ans-The count() method is used to count the number of occurrences of a specific element in a list, tuple, or string.\n",
        "\n"
      ],
      "metadata": {
        "id": "BekQe6xj3F4r"
      }
    },
    {
      "cell_type": "code",
      "source": [
        "list=[2,5,4,8,5,4,6,5,3]\n",
        "list.count(5)"
      ],
      "metadata": {
        "colab": {
          "base_uri": "https://localhost:8080/"
        },
        "id": "aMpgyHaf2w7z",
        "outputId": "3ff79313-93e5-4ee5-b89b-5cd0060bfd6e"
      },
      "execution_count": 27,
      "outputs": [
        {
          "output_type": "execute_result",
          "data": {
            "text/plain": [
              "3"
            ]
          },
          "metadata": {},
          "execution_count": 27
        }
      ]
    },
    {
      "cell_type": "markdown",
      "source": [
        "# 7.sort ( )\n",
        "\n",
        "ans-1.The sort() method is used to arrange the elements of a list in ascending or descending order.\n",
        "\n"
      ],
      "metadata": {
        "id": "A7gGg0hY4mWh"
      }
    },
    {
      "cell_type": "code",
      "source": [
        "# sort() integer values\n",
        "list = [8,7,9,6,4,2]\n",
        "list.sort()\n",
        "print(list)"
      ],
      "metadata": {
        "colab": {
          "base_uri": "https://localhost:8080/"
        },
        "id": "fe8MhrNB4kau",
        "outputId": "d2a2168c-42fb-4bed-b5c2-0f8323888b79"
      },
      "execution_count": 29,
      "outputs": [
        {
          "output_type": "stream",
          "name": "stdout",
          "text": [
            "[2, 4, 6, 7, 8, 9]\n"
          ]
        }
      ]
    },
    {
      "cell_type": "markdown",
      "source": [
        "2.sort() string Values\n",
        "\n",
        "Arranges strings in A-Z order.\n",
        "It follows ASCII values (uppercase letters come before lowercase letters)."
      ],
      "metadata": {
        "id": "Jo64HgjQ67tp"
      }
    },
    {
      "cell_type": "code",
      "source": [
        "# Sort() string values\n",
        "list= ['J','b','c','K','E' ]\n",
        "list.sort()\n",
        "print(list)\n",
        ""
      ],
      "metadata": {
        "colab": {
          "base_uri": "https://localhost:8080/"
        },
        "id": "bEsaAKYs6UBv",
        "outputId": "d1eff65b-0064-454a-f1ae-c562b4a6468d"
      },
      "execution_count": 31,
      "outputs": [
        {
          "output_type": "stream",
          "name": "stdout",
          "text": [
            "['E', 'J', 'K', 'b', 'c']\n"
          ]
        }
      ]
    },
    {
      "cell_type": "markdown",
      "source": [
        "# 8.reverse()\n",
        "\n",
        "ANS-The reverse() method is used to reverse the order of elements in a list.\n",
        "\n"
      ],
      "metadata": {
        "id": "B96A_7lz84eV"
      }
    },
    {
      "cell_type": "code",
      "source": [
        "list = [1,2,3,4,5,6,7]\n",
        "list.reverse()\n",
        "print(list)"
      ],
      "metadata": {
        "colab": {
          "base_uri": "https://localhost:8080/"
        },
        "id": "eYuY0CAB8tH9",
        "outputId": "67b8cdb7-2fa2-4a3f-93f3-1de8b1a67081"
      },
      "execution_count": 33,
      "outputs": [
        {
          "output_type": "stream",
          "name": "stdout",
          "text": [
            "[7, 6, 5, 4, 3, 2, 1]\n"
          ]
        }
      ]
    },
    {
      "cell_type": "markdown",
      "source": [
        "# 9.clear\n",
        "\n",
        "ans-The clear() method is used to remove all elements from a list, dictionary, set, or other mutable data structures, making them empty.\n",
        "\n"
      ],
      "metadata": {
        "id": "CQ3tBJ6r9vny"
      }
    },
    {
      "cell_type": "code",
      "source": [
        "list= [5,7,4,3,8,2,]\n",
        "list.clear()\n",
        "print(list)"
      ],
      "metadata": {
        "colab": {
          "base_uri": "https://localhost:8080/"
        },
        "id": "bvkcvx_R9r-o",
        "outputId": "9238ff9d-2de8-452f-9c76-0d6a21ad95c5"
      },
      "execution_count": 34,
      "outputs": [
        {
          "output_type": "stream",
          "name": "stdout",
          "text": [
            "[]\n"
          ]
        }
      ]
    },
    {
      "cell_type": "markdown",
      "source": [
        "# 10.copy()\n",
        "\n",
        "ans-The copy() method is used to create a shallow copy of a list, dictionary, or set. This means the new object will have the same elements but a different memory location.\n",
        "\n"
      ],
      "metadata": {
        "id": "-HEwlglE-lxO"
      }
    },
    {
      "cell_type": "code",
      "source": [
        "list =[2,3,6,5,7,12]\n",
        "list= list.copy()\n",
        "print(list)"
      ],
      "metadata": {
        "colab": {
          "base_uri": "https://localhost:8080/"
        },
        "id": "qChN6FPm-eJU",
        "outputId": "aca11145-770a-4c93-9c07-6f6f8263e31d"
      },
      "execution_count": 43,
      "outputs": [
        {
          "output_type": "stream",
          "name": "stdout",
          "text": [
            "[2, 3, 6, 5, 7, 12]\n"
          ]
        }
      ]
    },
    {
      "cell_type": "markdown",
      "source": [
        "# 11.index()\n",
        "\n",
        "ans-The copy() method is used to create a shallow copy of a list, dictionary, or set. This means the new object will have the same elements but a different memory location.\n",
        "\n"
      ],
      "metadata": {
        "id": "Ikod1xdjAaPK"
      }
    },
    {
      "cell_type": "code",
      "source": [
        "list = [2,4,6,8,10,12,14,16]\n",
        "list.index(12)\n",
        "\n"
      ],
      "metadata": {
        "colab": {
          "base_uri": "https://localhost:8080/"
        },
        "id": "gemTtp7c_6I8",
        "outputId": "af758c47-b170-455b-8169-0e47ad5d7ffb"
      },
      "execution_count": 44,
      "outputs": [
        {
          "output_type": "execute_result",
          "data": {
            "text/plain": [
              "5"
            ]
          },
          "metadata": {},
          "execution_count": 44
        }
      ]
    }
  ]
}