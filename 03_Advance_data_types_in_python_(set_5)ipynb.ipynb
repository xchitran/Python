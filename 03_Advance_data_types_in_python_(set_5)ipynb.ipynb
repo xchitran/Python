{
  "nbformat": 4,
  "nbformat_minor": 0,
  "metadata": {
    "colab": {
      "provenance": []
    },
    "kernelspec": {
      "name": "python3",
      "display_name": "Python 3"
    },
    "language_info": {
      "name": "python"
    }
  },
  "cells": [
    {
      "cell_type": "markdown",
      "source": [
        "# Set( ):\n",
        "\n",
        ".Unordered Collection – Elements in a set have no specific order.\n",
        "\n",
        ".Duplicate values are automatically removed.\n",
        "\n",
        ".You can add or remove elements, but individual elements are immutable.\n",
        "\n",
        ".Represented Using {} and separated by \" , \"."
      ],
      "metadata": {
        "id": "IvllDJpVDswa"
      }
    },
    {
      "cell_type": "code",
      "execution_count": 2,
      "metadata": {
        "colab": {
          "base_uri": "https://localhost:8080/"
        },
        "id": "ZpXsS6HsC4Q7",
        "outputId": "af0d8d36-f848-455a-808e-11d541ec22cf"
      },
      "outputs": [
        {
          "output_type": "stream",
          "name": "stdout",
          "text": [
            "{2, 4, 6, 8, 10, 12, 14}\n",
            "<class 'set'>\n"
          ]
        }
      ],
      "source": [
        "a = {2,4,6,8,10,12,14,}\n",
        "print(a)\n",
        "print(type(a))"
      ]
    },
    {
      "cell_type": "markdown",
      "source": [
        "## We can convert a list into a set using the set() function."
      ],
      "metadata": {
        "id": "iow-JFvmEuHM"
      }
    },
    {
      "cell_type": "code",
      "source": [
        "a = set([2,4,6,8,10,12])\n",
        "print(a)\n",
        "print(type(a))\n",
        "\n",
        ""
      ],
      "metadata": {
        "colab": {
          "base_uri": "https://localhost:8080/"
        },
        "id": "DgAkc1jiEYiw",
        "outputId": "2c3ed73e-7a16-4c2b-8dbe-7972561c90c8"
      },
      "execution_count": 3,
      "outputs": [
        {
          "output_type": "stream",
          "name": "stdout",
          "text": [
            "{2, 4, 6, 8, 10, 12}\n",
            "<class 'set'>\n"
          ]
        }
      ]
    },
    {
      "cell_type": "markdown",
      "source": [
        "# Duplicates are automatically removed in the set."
      ],
      "metadata": {
        "id": "_8Gf5-uiFTeH"
      }
    },
    {
      "cell_type": "code",
      "source": [
        "a = {1,2,3,4,5,3,2,5,7,4,3,4,5,}\n",
        "print(a)\n",
        "print(type(a))\n"
      ],
      "metadata": {
        "colab": {
          "base_uri": "https://localhost:8080/"
        },
        "id": "wzyyUWwMFHPp",
        "outputId": "22c4db61-c9f0-41b8-b242-111e3f838274"
      },
      "execution_count": 4,
      "outputs": [
        {
          "output_type": "stream",
          "name": "stdout",
          "text": [
            "{1, 2, 3, 4, 5, 7}\n",
            "<class 'set'>\n"
          ]
        }
      ]
    },
    {
      "cell_type": "markdown",
      "source": [
        "# Set Methods:\n",
        "\n",
        "## 1.add():\n",
        "\n",
        "Adds an element to the set."
      ],
      "metadata": {
        "id": "y_Jrb2R_F0lg"
      }
    },
    {
      "cell_type": "code",
      "source": [
        "a = {2,4,6,8,}\n",
        "a.add(10)\n",
        "print(a)\n",
        "\n"
      ],
      "metadata": {
        "colab": {
          "base_uri": "https://localhost:8080/"
        },
        "id": "7vlkvEmxFkOE",
        "outputId": "6e29668d-5664-49df-f62a-f1a6703184d4"
      },
      "execution_count": 5,
      "outputs": [
        {
          "output_type": "stream",
          "name": "stdout",
          "text": [
            "{2, 4, 6, 8, 10}\n"
          ]
        }
      ]
    },
    {
      "cell_type": "markdown",
      "source": [
        "## 2.remove( ):\n",
        "\n",
        "Removes the specified element.\n",
        "raises an error if not found."
      ],
      "metadata": {
        "id": "bi5izF1JGlfQ"
      }
    },
    {
      "cell_type": "code",
      "source": [
        "a = {2,4,6,8,}\n",
        "a.remove(8)\n",
        "print(a)"
      ],
      "metadata": {
        "colab": {
          "base_uri": "https://localhost:8080/"
        },
        "id": "v1J0G2rzGVfv",
        "outputId": "22df7f1b-6448-4ccf-e793-b0a77e629089"
      },
      "execution_count": 7,
      "outputs": [
        {
          "output_type": "stream",
          "name": "stdout",
          "text": [
            "{2, 4, 6}\n"
          ]
        }
      ]
    },
    {
      "cell_type": "markdown",
      "source": [
        "# 3.update( ):\n",
        "\n",
        "used to add multiple elements from another set, list, tuple, or any iterable to an existing set."
      ],
      "metadata": {
        "id": "Ha_ufsk8HJ_1"
      }
    },
    {
      "cell_type": "code",
      "source": [
        "a = {1,2,3,4,5}\n",
        "b = {6,7,8,9,10}\n",
        "a.update(b)\n",
        "print(a)"
      ],
      "metadata": {
        "colab": {
          "base_uri": "https://localhost:8080/"
        },
        "id": "YZ7jzqnxG2kV",
        "outputId": "09a61ba8-cd6e-4b81-8195-395b3ecb5b10"
      },
      "execution_count": 8,
      "outputs": [
        {
          "output_type": "stream",
          "name": "stdout",
          "text": [
            "{1, 2, 3, 4, 5, 6, 7, 8, 9, 10}\n"
          ]
        }
      ]
    },
    {
      "cell_type": "markdown",
      "source": [
        "4.clear( ):\n",
        "Used to remove all elements from a set, making it an empty set.\n",
        "\n"
      ],
      "metadata": {
        "id": "EcQwAuU8HgYx"
      }
    },
    {
      "cell_type": "code",
      "source": [
        "a.clear()\n",
        "print(a)\n",
        "\n"
      ],
      "metadata": {
        "colab": {
          "base_uri": "https://localhost:8080/"
        },
        "id": "71M97oyYHUpQ",
        "outputId": "ea51f7ae-8547-42b4-c04f-7d898f19e23e"
      },
      "execution_count": 9,
      "outputs": [
        {
          "output_type": "stream",
          "name": "stdout",
          "text": [
            "set()\n"
          ]
        }
      ]
    },
    {
      "cell_type": "markdown",
      "source": [
        "# Set Operators:\n",
        "\n",
        "## 1.union( ):\n",
        "\n",
        ".The union() method combines two or more sets.\n",
        "\n",
        ".Returning a new set with all unique elements"
      ],
      "metadata": {
        "id": "iqlXKosLIIof"
      }
    },
    {
      "cell_type": "code",
      "source": [
        "#union\n",
        "\n",
        "a = {2,4,6,8,10}\n",
        "b = {12,14,16,18}\n",
        "a.union(b)"
      ],
      "metadata": {
        "colab": {
          "base_uri": "https://localhost:8080/"
        },
        "id": "oVxSMifqHqwe",
        "outputId": "ba0f83a1-a7dc-4142-8d6d-5bad6b2bd465"
      },
      "execution_count": 10,
      "outputs": [
        {
          "output_type": "execute_result",
          "data": {
            "text/plain": [
              "{2, 4, 6, 8, 10, 12, 14, 16, 18}"
            ]
          },
          "metadata": {},
          "execution_count": 10
        }
      ]
    },
    {
      "cell_type": "code",
      "source": [
        "a = {2,4,6,8,10}\n",
        "b = {12,14,16,18}\n",
        "a|b"
      ],
      "metadata": {
        "colab": {
          "base_uri": "https://localhost:8080/"
        },
        "id": "cnKpqWYZIqPo",
        "outputId": "b87f06ad-66f7-4415-cfac-4a9a412345ee"
      },
      "execution_count": 11,
      "outputs": [
        {
          "output_type": "execute_result",
          "data": {
            "text/plain": [
              "{2, 4, 6, 8, 10, 12, 14, 16, 18}"
            ]
          },
          "metadata": {},
          "execution_count": 11
        }
      ]
    },
    {
      "cell_type": "markdown",
      "source": [
        "# 2.Intersection():\n",
        "\n",
        ".Returns a new set containing only the common elements of two or more sets.\n",
        "\n",
        ".The result contains only unique elements that exist in all sets."
      ],
      "metadata": {
        "id": "sGzqIxELI_Yl"
      }
    },
    {
      "cell_type": "code",
      "source": [
        "#Intersection\n",
        "\n",
        "a = {1,2,3,4,5}\n",
        "b = {5,6,7,8}\n",
        "a.intersection(b)"
      ],
      "metadata": {
        "colab": {
          "base_uri": "https://localhost:8080/"
        },
        "id": "GOiughY8I3dM",
        "outputId": "2a470d09-2ff0-4341-cf42-666532425be5"
      },
      "execution_count": 38,
      "outputs": [
        {
          "output_type": "execute_result",
          "data": {
            "text/plain": [
              "{5}"
            ]
          },
          "metadata": {},
          "execution_count": 38
        }
      ]
    },
    {
      "cell_type": "code",
      "source": [
        "a = {1,2,3,4,5}\n",
        "b = {4,5,6,7,8}\n",
        "a&b"
      ],
      "metadata": {
        "colab": {
          "base_uri": "https://localhost:8080/"
        },
        "id": "UCU3BTg8KJ9q",
        "outputId": "57b779ac-801e-4c86-a89d-c9df7df64877"
      },
      "execution_count": 39,
      "outputs": [
        {
          "output_type": "execute_result",
          "data": {
            "text/plain": [
              "{4, 5}"
            ]
          },
          "metadata": {},
          "execution_count": 39
        }
      ]
    },
    {
      "cell_type": "markdown",
      "source": [
        "## 3.Difference of ('A-B'):\n",
        "\n",
        ".Returns a new set containing elements that are in set A but not in set B."
      ],
      "metadata": {
        "id": "TZRMm6vCLEK0"
      }
    },
    {
      "cell_type": "code",
      "source": [
        "#A-B\n",
        "a = {2,4,6,8,10,12,}\n",
        "b = {8,10,12,14}\n",
        "a-b"
      ],
      "metadata": {
        "colab": {
          "base_uri": "https://localhost:8080/"
        },
        "id": "GTb3cXvlK-NE",
        "outputId": "ee43b188-666c-4da6-ad25-e0eb5f75b56f"
      },
      "execution_count": 2,
      "outputs": [
        {
          "output_type": "execute_result",
          "data": {
            "text/plain": [
              "{2, 4, 6}"
            ]
          },
          "metadata": {},
          "execution_count": 2
        }
      ]
    },
    {
      "cell_type": "markdown",
      "source": [
        "## 4.Difference of ('B-A'):\n",
        "\n",
        "Returns a new set containing elements that are in set B but not in set A"
      ],
      "metadata": {
        "id": "HtpQjcWCIAcV"
      }
    },
    {
      "cell_type": "code",
      "source": [
        "#B-A\n",
        "a = {2,4,6,8,10,12,}\n",
        "b = {8,10,12,14}\n",
        "b-a"
      ],
      "metadata": {
        "colab": {
          "base_uri": "https://localhost:8080/"
        },
        "id": "NuC-q_5ELV4b",
        "outputId": "e1152b51-5e8a-4a65-9647-7059c924a97b"
      },
      "execution_count": 3,
      "outputs": [
        {
          "output_type": "execute_result",
          "data": {
            "text/plain": [
              "{14}"
            ]
          },
          "metadata": {},
          "execution_count": 3
        }
      ]
    },
    {
      "cell_type": "markdown",
      "source": [
        "## 5.Symmetric_difference( ):\n",
        "\n",
        ".Returns a new set containing elements that are in either set A or set B, but not in both.\n",
        "\n",
        ".You can use the ^ (caret) operator.\n",
        "\n",
        ".It returns a new set instead of modifying existing ones.\n",
        "\n",
        ".The result contains only unique elements.\n",
        "\n"
      ],
      "metadata": {
        "id": "4EEnQo2KI6DC"
      }
    },
    {
      "cell_type": "code",
      "source": [
        "#Symmetric_Difference\n",
        "\n",
        "a = {2,4,6,8,10}\n",
        "b = {6,8,10,12,14}\n",
        "result = a.symmetric_difference(b)\n",
        "print(result)"
      ],
      "metadata": {
        "colab": {
          "base_uri": "https://localhost:8080/"
        },
        "id": "8MD_h22iIhLD",
        "outputId": "28e5de16-07b4-4896-dbdd-9fe596643c01"
      },
      "execution_count": 4,
      "outputs": [
        {
          "output_type": "stream",
          "name": "stdout",
          "text": [
            "{2, 4, 12, 14}\n"
          ]
        }
      ]
    },
    {
      "cell_type": "code",
      "source": [
        "a = {2,4,6,8,10}\n",
        "b = {6,8,10,12,14}\n",
        "a^b"
      ],
      "metadata": {
        "colab": {
          "base_uri": "https://localhost:8080/"
        },
        "id": "-dfuVePLKicd",
        "outputId": "242cf89a-3cc1-4dcb-c4c5-cd337cf86a24"
      },
      "execution_count": 5,
      "outputs": [
        {
          "output_type": "execute_result",
          "data": {
            "text/plain": [
              "{2, 4, 12, 14}"
            ]
          },
          "metadata": {},
          "execution_count": 5
        }
      ]
    },
    {
      "cell_type": "code",
      "source": [],
      "metadata": {
        "id": "pNMIwzsnK6VL"
      },
      "execution_count": null,
      "outputs": []
    }
  ]
}