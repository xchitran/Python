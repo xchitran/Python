{
  "nbformat": 4,
  "nbformat_minor": 0,
  "metadata": {
    "colab": {
      "provenance": []
    },
    "kernelspec": {
      "name": "python3",
      "display_name": "Python 3"
    },
    "language_info": {
      "name": "python"
    }
  },
  "cells": [
    {
      "cell_type": "markdown",
      "source": [
        "# Operators\n",
        "\n",
        " In programming, an operator is a symbol or keyword used to perform operations on variables or values.\n",
        "\n",
        "### 1.Arithmetic operator:\n",
        "\n",
        " are used with numeric values to perform common mathematical operations."
      ],
      "metadata": {
        "id": "3Q_FrZCxLX4U"
      }
    },
    {
      "cell_type": "code",
      "execution_count": 1,
      "metadata": {
        "colab": {
          "base_uri": "https://localhost:8080/"
        },
        "id": "S2w5g3XRLRzX",
        "outputId": "634562fa-fd60-40a3-e866-75436bbf3813"
      },
      "outputs": [
        {
          "output_type": "stream",
          "name": "stdout",
          "text": [
            "45\n",
            "25\n",
            "350\n",
            "3.5\n",
            "5\n",
            "2758547353515625\n",
            "3\n"
          ]
        }
      ],
      "source": [
        "a = 35\n",
        "b = 10\n",
        "print(a+b)\n",
        "print(a-b)\n",
        "print(a*b)\n",
        "print(a/b)\n",
        "print(a%b)\n",
        "print(a**b)\n",
        "print(a//b)"
      ]
    },
    {
      "cell_type": "markdown",
      "source": [
        "### 2.Comparison operators :\n",
        "\n",
        " are used to compare two values."
      ],
      "metadata": {
        "id": "F28kHmj2NIPd"
      }
    },
    {
      "cell_type": "code",
      "source": [
        "a = 35\n",
        "b = 10\n",
        "print(a==b)\n",
        "print(a!=b)\n",
        "print(a>b)\n",
        "print(a<=b)\n",
        "print(a<=b)"
      ],
      "metadata": {
        "colab": {
          "base_uri": "https://localhost:8080/"
        },
        "id": "nJuaBhL-NAAe",
        "outputId": "54c4395e-7d27-4559-b206-5e59d0273748"
      },
      "execution_count": 6,
      "outputs": [
        {
          "output_type": "stream",
          "name": "stdout",
          "text": [
            "False\n",
            "True\n",
            "True\n",
            "False\n",
            "False\n"
          ]
        }
      ]
    },
    {
      "cell_type": "markdown",
      "source": [
        "### 3.Assignment operators:\n",
        "are used to assign values to variables.\n",
        "\n",
        ". += (Add and assign)\n",
        "\n",
        ". -= (Subtract and assign)\n",
        "\n",
        ". *= (Multiply and assign)\n",
        "\n",
        ". /= (Divide and assign)\n",
        "\n",
        ". //= (Floor divide and assign)\n",
        "\n",
        ". %= (Modulus and assign)"
      ],
      "metadata": {
        "id": "jCDgfOfwOe9z"
      }
    },
    {
      "cell_type": "code",
      "source": [
        "a = 35\n",
        "b = 10\n",
        "a+=b\n",
        "print(a)\n",
        ""
      ],
      "metadata": {
        "colab": {
          "base_uri": "https://localhost:8080/"
        },
        "id": "CAZPNlj-Q7AB",
        "outputId": "28f761b8-ab44-4165-b9af-3300ac0e835d"
      },
      "execution_count": 26,
      "outputs": [
        {
          "output_type": "stream",
          "name": "stdout",
          "text": [
            "45\n"
          ]
        }
      ]
    },
    {
      "cell_type": "code",
      "source": [
        "a-=b\n",
        "print(a)"
      ],
      "metadata": {
        "colab": {
          "base_uri": "https://localhost:8080/"
        },
        "id": "alNVnUurRjw7",
        "outputId": "f304f5f1-9b38-4454-f517-7464d3dd6fd7"
      },
      "execution_count": 27,
      "outputs": [
        {
          "output_type": "stream",
          "name": "stdout",
          "text": [
            "35\n"
          ]
        }
      ]
    },
    {
      "cell_type": "code",
      "source": [
        "a*=b\n",
        "print(a)"
      ],
      "metadata": {
        "colab": {
          "base_uri": "https://localhost:8080/"
        },
        "id": "jag8_d0jRxBm",
        "outputId": "ac3966b9-9288-4072-c4d7-f0a840ffeb1a"
      },
      "execution_count": 29,
      "outputs": [
        {
          "output_type": "stream",
          "name": "stdout",
          "text": [
            "3500\n"
          ]
        }
      ]
    },
    {
      "cell_type": "code",
      "source": [
        "\n",
        "a/=b\n",
        "print(a)"
      ],
      "metadata": {
        "colab": {
          "base_uri": "https://localhost:8080/"
        },
        "id": "5SrLUGRuScQC",
        "outputId": "7a8a4816-8b6e-4a8c-e602-5974f06fffb3"
      },
      "execution_count": 31,
      "outputs": [
        {
          "output_type": "stream",
          "name": "stdout",
          "text": [
            "35.0\n"
          ]
        }
      ]
    },
    {
      "cell_type": "code",
      "source": [
        "a//=b\n",
        "print(a)"
      ],
      "metadata": {
        "colab": {
          "base_uri": "https://localhost:8080/"
        },
        "id": "wHVAQsCXSfHE",
        "outputId": "e6349e66-67c6-4875-ad9c-1f51f335e0b9"
      },
      "execution_count": 35,
      "outputs": [
        {
          "output_type": "stream",
          "name": "stdout",
          "text": [
            "0.0\n"
          ]
        }
      ]
    },
    {
      "cell_type": "code",
      "source": [
        "\n",
        "a%=b\n",
        "print(a)"
      ],
      "metadata": {
        "colab": {
          "base_uri": "https://localhost:8080/"
        },
        "id": "QZ0ZF8CdSkc3",
        "outputId": "e35445f0-e5e7-4013-cb54-d96de8f1bbe9"
      },
      "execution_count": 34,
      "outputs": [
        {
          "output_type": "stream",
          "name": "stdout",
          "text": [
            "5.0\n"
          ]
        }
      ]
    },
    {
      "cell_type": "markdown",
      "source": [
        "### 4.Logical operators:\n",
        "\n",
        " are used to combine conditional statements:\n",
        "\n",
        "and : Returns True if both statements are true.\n",
        "\n",
        "or : Returns True if one of the statements is true.\n",
        "\n",
        "not : Reverse the result, returns False if the result is true.\n",
        "\n",
        "True\n",
        "True\n",
        "False\n",
        "\n",
        "\n",
        "### 5.Identity operators:\n",
        "\n",
        " are used to compare the objects, not if they are equal, but if they are actually the same object, with the same memory location.\n",
        "\n",
        "is : Returns True if both variables are the same object.\n",
        "\n",
        "is not : Returns True if both variables are not the same object."
      ],
      "metadata": {
        "id": "yY9ppYEGUcH0"
      }
    },
    {
      "cell_type": "code",
      "source": [
        "\n",
        "a = 35\n",
        "b = 10\n",
        "print(a is b)\n",
        "print(a is not b)"
      ],
      "metadata": {
        "colab": {
          "base_uri": "https://localhost:8080/"
        },
        "id": "RhdJI__YSrgc",
        "outputId": "c1905cc7-611d-40b7-ace7-2c21e3def650"
      },
      "execution_count": 37,
      "outputs": [
        {
          "output_type": "stream",
          "name": "stdout",
          "text": [
            "False\n",
            "True\n"
          ]
        }
      ]
    },
    {
      "cell_type": "markdown",
      "source": [
        "### 6.Membership operators:\n",
        "\n",
        "are used to test if a sequence is presented in an object.\n",
        "\n",
        "in : Returns True if a sequence with the specified value is present in the object.\n",
        "\n",
        "not in : Returns True if a sequence with the specified value is not present in the object."
      ],
      "metadata": {
        "id": "Um1gK1DRVJV0"
      }
    },
    {
      "cell_type": "code",
      "source": [
        "a = [10,20,30,40,50,60]\n",
        "print(30 in a)\n",
        "print(70 in a)\n",
        "print(70 not in a)"
      ],
      "metadata": {
        "colab": {
          "base_uri": "https://localhost:8080/"
        },
        "id": "ad1Yi5MBVDlK",
        "outputId": "979ec617-12d8-4616-bc66-13b8569305a6"
      },
      "execution_count": 40,
      "outputs": [
        {
          "output_type": "stream",
          "name": "stdout",
          "text": [
            "True\n",
            "False\n",
            "True\n"
          ]
        }
      ]
    },
    {
      "cell_type": "markdown",
      "source": [
        "### 7.Bitwise operators:\n",
        "\n",
        " are used to compare (binary) numbers.\n",
        "\n",
        "& (AND) Sets each bit to 1 if both bits are 1.\n",
        "\n",
        "| (OR) Sets each bit to 1 if one of two bits is 1.\n",
        "\n",
        "^ (XOR) Sets each bit to 1 if only one of two bits is 1.\n",
        "\n",
        "~ (NOT) Inverts all the bits.\n",
        "\n",
        "<< (Zero fill left shift) Shift left by pushing zeros in from the right and let the leftmost bits fall off.\n",
        "\n",
        "(>>) (Signed right shift) Shift right by pushing copies of the leftmost bit in from the left, and let the rightmost bits fall off."
      ],
      "metadata": {
        "id": "WDs0iELFWLB9"
      }
    },
    {
      "cell_type": "code",
      "source": [
        "a = 35\n",
        "b = 10\n",
        "print(a&b)\n",
        "print(a|b)\n",
        "print(a^b)\n",
        "print(~a)\n",
        "print(a<<2)\n",
        "print(b<<2)\n",
        "print(a>>2)\n",
        "print(b>>2)"
      ],
      "metadata": {
        "colab": {
          "base_uri": "https://localhost:8080/"
        },
        "id": "4mDD-ufRV0hO",
        "outputId": "6212b9be-585d-400f-a001-b349d30fb064"
      },
      "execution_count": 41,
      "outputs": [
        {
          "output_type": "stream",
          "name": "stdout",
          "text": [
            "2\n",
            "43\n",
            "41\n",
            "-36\n",
            "140\n",
            "40\n",
            "8\n",
            "2\n"
          ]
        }
      ]
    }
  ]
}