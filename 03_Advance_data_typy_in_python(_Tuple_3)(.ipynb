{
  "nbformat": 4,
  "nbformat_minor": 0,
  "metadata": {
    "colab": {
      "provenance": []
    },
    "kernelspec": {
      "name": "python3",
      "display_name": "Python 3"
    },
    "language_info": {
      "name": "python"
    }
  },
  "cells": [
    {
      "cell_type": "markdown",
      "source": [
        "# Tuple( ):\n",
        "\n",
        "\n",
        " .Tuple is simply a pair of values grouped together in a fixed order.\n",
        "\n",
        " .It is immutable(we cannot modify,change,update the variable)."
      ],
      "metadata": {
        "id": "Lavc6xjjgvB7"
      }
    },
    {
      "cell_type": "code",
      "execution_count": 2,
      "metadata": {
        "colab": {
          "base_uri": "https://localhost:8080/"
        },
        "id": "lZYVv4GMgt01",
        "outputId": "f06fdef3-132c-4b66-d492-1550a8b45b26"
      },
      "outputs": [
        {
          "output_type": "stream",
          "name": "stdout",
          "text": [
            "<class 'tuple'>\n"
          ]
        }
      ],
      "source": [
        "j = (1,3,\"banana\")\n",
        "print(type(j))\n",
        ""
      ]
    },
    {
      "cell_type": "markdown",
      "source": [
        "Indexing():\n",
        "\n",
        ".Access using square brackets – Use tuple[index] to get an element.\n",
        "\n",
        ".Positive Indexing – Access elements from the starting using 0, 1, 2, ....\n",
        "\n",
        ".Negative Indexing – Access elements from the end using -1, -2, -3, ....\n"
      ],
      "metadata": {
        "id": "eABG9jpfifoW"
      }
    },
    {
      "cell_type": "code",
      "source": [
        "a = (\"tuple is immutable\")\n",
        "a[-2]\n",
        ""
      ],
      "metadata": {
        "colab": {
          "base_uri": "https://localhost:8080/",
          "height": 35
        },
        "id": "3uLlysphiS17",
        "outputId": "23057773-5da9-465d-f6a2-02d77977a291"
      },
      "execution_count": 6,
      "outputs": [
        {
          "output_type": "execute_result",
          "data": {
            "text/plain": [
              "'l'"
            ],
            "application/vnd.google.colaboratory.intrinsic+json": {
              "type": "string"
            }
          },
          "metadata": {},
          "execution_count": 6
        }
      ]
    },
    {
      "cell_type": "code",
      "source": [
        "a = (\"tuple is immutable\")\n",
        "a[-7]\n",
        ""
      ],
      "metadata": {
        "colab": {
          "base_uri": "https://localhost:8080/",
          "height": 35
        },
        "id": "Q2PgF9qAi6k4",
        "outputId": "45885f59-53ec-4cc4-af35-53ba51a44b52"
      },
      "execution_count": 7,
      "outputs": [
        {
          "output_type": "execute_result",
          "data": {
            "text/plain": [
              "'m'"
            ],
            "application/vnd.google.colaboratory.intrinsic+json": {
              "type": "string"
            }
          },
          "metadata": {},
          "execution_count": 7
        }
      ]
    },
    {
      "cell_type": "markdown",
      "source": [
        "\n",
        "# Slicing( ):\n",
        "\n",
        ".Use [start:end] to extract a portion of a tuple.\n",
        "\n",
        ".Slicing creates a new tuple without changing the original."
      ],
      "metadata": {
        "id": "n16fRPi0jlfX"
      }
    },
    {
      "cell_type": "code",
      "source": [
        "a = (\"tuple is immutable\")\n",
        "a[0:6]\n",
        ""
      ],
      "metadata": {
        "colab": {
          "base_uri": "https://localhost:8080/",
          "height": 35
        },
        "id": "EFRyWxDkjSzV",
        "outputId": "5418067f-7449-464b-ee7c-a91d03f8e355"
      },
      "execution_count": 8,
      "outputs": [
        {
          "output_type": "execute_result",
          "data": {
            "text/plain": [
              "'tuple '"
            ],
            "application/vnd.google.colaboratory.intrinsic+json": {
              "type": "string"
            }
          },
          "metadata": {},
          "execution_count": 8
        }
      ]
    },
    {
      "cell_type": "code",
      "source": [
        "a = (\"tuple is immutable\")\n",
        "a[-9:-5]\n",
        ""
      ],
      "metadata": {
        "colab": {
          "base_uri": "https://localhost:8080/",
          "height": 35
        },
        "id": "68zRert5j719",
        "outputId": "4f41f01c-4f6b-4681-80f5-d423f9736467"
      },
      "execution_count": 12,
      "outputs": [
        {
          "output_type": "execute_result",
          "data": {
            "text/plain": [
              "'immu'"
            ],
            "application/vnd.google.colaboratory.intrinsic+json": {
              "type": "string"
            }
          },
          "metadata": {},
          "execution_count": 12
        }
      ]
    },
    {
      "cell_type": "markdown",
      "source": [
        "# type( ) function :\n",
        "\n",
        ".The type() function returns the data type of a given object."
      ],
      "metadata": {
        "id": "0ZMSB2Rkkkp0"
      }
    },
    {
      "cell_type": "code",
      "source": [
        "a = (2,6,4,6,8,10,2)\n",
        "print(type(a))"
      ],
      "metadata": {
        "colab": {
          "base_uri": "https://localhost:8080/"
        },
        "id": "vl7mG8awkC7b",
        "outputId": "7211d678-6c98-42c3-992d-ca932c4104b9"
      },
      "execution_count": 17,
      "outputs": [
        {
          "output_type": "stream",
          "name": "stdout",
          "text": [
            "<class 'tuple'>\n"
          ]
        }
      ]
    },
    {
      "cell_type": "code",
      "source": [
        "a = (1,2.3,\"name\",True)\n",
        "print(type(a))\n",
        "\n",
        ""
      ],
      "metadata": {
        "colab": {
          "base_uri": "https://localhost:8080/"
        },
        "id": "XT5HvFWqku9V",
        "outputId": "3a910449-7e12-4b26-b81e-37e9d9058e9d"
      },
      "execution_count": 25,
      "outputs": [
        {
          "output_type": "stream",
          "name": "stdout",
          "text": [
            "<class 'tuple'>\n"
          ]
        }
      ]
    },
    {
      "cell_type": "markdown",
      "source": [
        "Tuple methods:\n",
        "\n",
        "1.len( ):\n",
        "\n",
        ".The len() function returns the number of elements in a tuple.\n",
        "\n",
        ".It helps in finding the size of a tuple quickly.\n"
      ],
      "metadata": {
        "id": "_XRyqOQ0mJ9y"
      }
    },
    {
      "cell_type": "code",
      "source": [
        "a = (\"my name is chitranjan\")\n",
        "len(a)"
      ],
      "metadata": {
        "colab": {
          "base_uri": "https://localhost:8080/"
        },
        "id": "a-BvBcNwlUKI",
        "outputId": "5d76c74a-5c18-4480-e3ad-2488a66838ec"
      },
      "execution_count": 26,
      "outputs": [
        {
          "output_type": "execute_result",
          "data": {
            "text/plain": [
              "21"
            ]
          },
          "metadata": {},
          "execution_count": 26
        }
      ]
    },
    {
      "cell_type": "markdown",
      "source": [
        "2.count( ):\n",
        "\n",
        "The count() function returns the number of times a specific element appears in a tuple"
      ],
      "metadata": {
        "id": "QJrMx74vnJD9"
      }
    },
    {
      "cell_type": "code",
      "source": [
        "a = (\"my name is chitranjan\")\n",
        "a.count(\"a\")"
      ],
      "metadata": {
        "colab": {
          "base_uri": "https://localhost:8080/"
        },
        "id": "9B8FCwxjnAC4",
        "outputId": "a0bf4502-00e6-49ae-beed-9c5d2b2976a8"
      },
      "execution_count": 31,
      "outputs": [
        {
          "output_type": "execute_result",
          "data": {
            "text/plain": [
              "3"
            ]
          },
          "metadata": {},
          "execution_count": 31
        }
      ]
    },
    {
      "cell_type": "code",
      "source": [
        "a = (\"my name is chitranjan\")\n",
        "print(a.count(\"i\"))"
      ],
      "metadata": {
        "colab": {
          "base_uri": "https://localhost:8080/"
        },
        "id": "NPJY9sEWnlzr",
        "outputId": "4093ecc3-e354-4f6d-e497-67639535e531"
      },
      "execution_count": 34,
      "outputs": [
        {
          "output_type": "stream",
          "name": "stdout",
          "text": [
            "2\n"
          ]
        }
      ]
    },
    {
      "cell_type": "markdown",
      "source": [
        "3.index( ):\n",
        "\n",
        "Searches the tuple for a specified value and returns the position of where it was found."
      ],
      "metadata": {
        "id": "HQSE4S6gooIy"
      }
    },
    {
      "cell_type": "code",
      "source": [
        "\n",
        "\n",
        "a = (\"my name is chitranjan \")\n",
        "print(a.index(\"n\"))\n",
        "\n"
      ],
      "metadata": {
        "colab": {
          "base_uri": "https://localhost:8080/"
        },
        "id": "0PBYcZfBoTvQ",
        "outputId": "30f67116-ab82-4c68-cce0-a5b64e98cfe6"
      },
      "execution_count": 40,
      "outputs": [
        {
          "output_type": "stream",
          "name": "stdout",
          "text": [
            "3\n"
          ]
        }
      ]
    },
    {
      "cell_type": "code",
      "source": [
        "a = (\"my name is chitranjan \")\n",
        "print(a.index(\"i\"))"
      ],
      "metadata": {
        "colab": {
          "base_uri": "https://localhost:8080/"
        },
        "id": "gHlqOPO0o-qO",
        "outputId": "2d4c1992-5cbf-4e47-d7f5-5769972763c2"
      },
      "execution_count": 39,
      "outputs": [
        {
          "output_type": "stream",
          "name": "stdout",
          "text": [
            "8\n"
          ]
        }
      ]
    }
  ]
}