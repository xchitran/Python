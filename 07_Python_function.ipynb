{
  "nbformat": 4,
  "nbformat_minor": 0,
  "metadata": {
    "colab": {
      "provenance": []
    },
    "kernelspec": {
      "name": "python3",
      "display_name": "Python 3"
    },
    "language_info": {
      "name": "python"
    }
  },
  "cells": [
    {
      "cell_type": "markdown",
      "source": [
        "# Functions:\n",
        "\n",
        ". Functions are blocks of reusable code that perform a specific task.\n",
        "\n",
        ".  They make the code more modular, readable, and efficient.\n",
        "\n",
        "### We have two types in functions:\n",
        "\n",
        "1.Built-in Function: That are ready to use.\n",
        "\n",
        "2.User define functions: are created by the programmer for specific tasks.\n"
      ],
      "metadata": {
        "id": "7ByPlaefQmRG"
      }
    },
    {
      "cell_type": "code",
      "execution_count": null,
      "metadata": {
        "id": "qpAssrkqQNpT"
      },
      "outputs": [],
      "source": [
        "#syntax\n",
        "def function_name (parameters):\n",
        "\n",
        "  statement(s)\n",
        "\n",
        "  return #(optional)"
      ]
    },
    {
      "cell_type": "code",
      "source": [
        "a=int(input(\"enter the a number:\"))#give values\n",
        "b=int(input(\"enter the b number:\"))"
      ],
      "metadata": {
        "colab": {
          "base_uri": "https://localhost:8080/"
        },
        "id": "eQHPeoPDd0UI",
        "outputId": "0ac3c34d-37f5-4844-f8e4-e85aad659263"
      },
      "execution_count": null,
      "outputs": [
        {
          "name": "stdout",
          "output_type": "stream",
          "text": [
            "enter the a number:45\n",
            "enter the b number:32\n"
          ]
        }
      ]
    },
    {
      "cell_type": "code",
      "source": [
        "def sum(a,b):\n",
        "  sum=a+b\n",
        "  print(sum)"
      ],
      "metadata": {
        "id": "sBXTFg7feGcF"
      },
      "execution_count": null,
      "outputs": []
    },
    {
      "cell_type": "code",
      "source": [
        "sum(a,b)"
      ],
      "metadata": {
        "colab": {
          "base_uri": "https://localhost:8080/"
        },
        "id": "W_XVe8OTeKR9",
        "outputId": "2e443dea-0d32-440d-acb7-7d235d97624c"
      },
      "execution_count": null,
      "outputs": [
        {
          "output_type": "stream",
          "name": "stdout",
          "text": [
            "77\n"
          ]
        }
      ]
    },
    {
      "cell_type": "code",
      "source": [
        "#With 2arithematic operators\n",
        "a=int(input(\"enter the a number:\"))\n",
        "b=int(input(\"enter the b number:\"))\n",
        "def arit(num1,num2):\n",
        "  sum=num1+num2\n",
        "  sub=num1-num2\n",
        "  mul=num1*num2\n",
        "  div=num1/num2\n",
        "  mod=num1%num2\n",
        "  print(sum,sub,mul,div,mod)\n"
      ],
      "metadata": {
        "colab": {
          "base_uri": "https://localhost:8080/"
        },
        "id": "KrVyG6nHeZ0M",
        "outputId": "ba3037c9-a603-4cbf-c878-3ec5c0207d2e"
      },
      "execution_count": null,
      "outputs": [
        {
          "name": "stdout",
          "output_type": "stream",
          "text": [
            "enter the a number:45\n",
            "enter the b number:32\n"
          ]
        }
      ]
    },
    {
      "cell_type": "code",
      "source": [
        "arit(a,b)"
      ],
      "metadata": {
        "colab": {
          "base_uri": "https://localhost:8080/"
        },
        "id": "JgnviHahem7w",
        "outputId": "be4a8c09-d017-4146-9376-d1911c56430f"
      },
      "execution_count": null,
      "outputs": [
        {
          "output_type": "stream",
          "name": "stdout",
          "text": [
            "77 13 1440 1.40625 13\n"
          ]
        }
      ]
    },
    {
      "cell_type": "code",
      "source": [
        "user=input(\"enter the char:\")#by using function\n",
        "vowels=['a','e','i','o','u']\n",
        "def find_vowels(user):\n",
        "  if user.lower() in vowels:\n",
        "    print(\"it is a vowel\")\n",
        "  else:\n",
        "    print(\"it is not a vowel\")\n",
        "\n",
        "find_vowels(user)"
      ],
      "metadata": {
        "colab": {
          "base_uri": "https://localhost:8080/"
        },
        "id": "eYqG_H_pexID",
        "outputId": "85ea7d1c-03b0-43b9-9ac0-763aa3b06a4b"
      },
      "execution_count": null,
      "outputs": [
        {
          "output_type": "stream",
          "name": "stdout",
          "text": [
            "enter the char:I\n",
            "it is a vowel\n"
          ]
        }
      ]
    },
    {
      "cell_type": "code",
      "source": [
        "#to find which is vowel and which is not vowel in a string without function\n",
        "user=input(\"enter the string:\")\n",
        "vowels=['a','e','i','o','u']\n",
        "for i in user:\n",
        "  if i in vowels:\n",
        "    print(i,\"is a vowel\")\n",
        "  else:\n",
        "    print(i,\"is not a vowel\")"
      ],
      "metadata": {
        "colab": {
          "base_uri": "https://localhost:8080/"
        },
        "id": "PoHyHOVZe4Xw",
        "outputId": "415b56de-e4eb-46da-9853-e11ced9732f3"
      },
      "execution_count": null,
      "outputs": [
        {
          "output_type": "stream",
          "name": "stdout",
          "text": [
            "enter the string:e\n",
            "e is a vowel\n"
          ]
        }
      ]
    },
    {
      "cell_type": "markdown",
      "source": [
        "# return function:\n",
        "\n",
        ". The return statement gives back a value from a function.\n",
        "\n",
        ". It stops the function and sends a result back to where it was called.\n",
        "\n",
        ". Can return multiple values as a tuple.\n",
        "\n",
        ".A function can have multiple return statements but executes only one."
      ],
      "metadata": {
        "id": "L5Bt5Fe8fidK"
      }
    },
    {
      "cell_type": "code",
      "source": [
        "#return statement\n",
        "def mul(a,b):\n",
        "  mul=a*b\n",
        "  return mul"
      ],
      "metadata": {
        "id": "x0scNDXifRB1"
      },
      "execution_count": 16,
      "outputs": []
    },
    {
      "cell_type": "code",
      "source": [
        "\n",
        "mul(12,5)"
      ],
      "metadata": {
        "colab": {
          "base_uri": "https://localhost:8080/"
        },
        "id": "47kroMxZf8iL",
        "outputId": "4dcf85b7-ada6-4eaa-bed4-538d5cf2d31d"
      },
      "execution_count": 17,
      "outputs": [
        {
          "output_type": "execute_result",
          "data": {
            "text/plain": [
              "60"
            ]
          },
          "metadata": {},
          "execution_count": 17
        }
      ]
    },
    {
      "cell_type": "markdown",
      "source": [
        "# Lambda Function:\n",
        "\n",
        "They can take multiple arguments but must have only one expression.\n",
        "\n",
        "They don’t require a def keyword or a function name."
      ],
      "metadata": {
        "id": "DFDkWbCmgpE9"
      }
    },
    {
      "cell_type": "code",
      "source": [
        "f=lambda y:y+200\n",
        "print(f(10))"
      ],
      "metadata": {
        "colab": {
          "base_uri": "https://localhost:8080/"
        },
        "id": "6AympSSUf_8s",
        "outputId": "6579e69a-4ff0-4678-e795-b1a14b722f4b"
      },
      "execution_count": 18,
      "outputs": [
        {
          "output_type": "stream",
          "name": "stdout",
          "text": [
            "210\n"
          ]
        }
      ]
    },
    {
      "cell_type": "code",
      "source": [
        "mul=lambda x,y:x*y#with multiple arguemnets but only one expression\n",
        "print(mul(15,5))\n",
        ""
      ],
      "metadata": {
        "colab": {
          "base_uri": "https://localhost:8080/"
        },
        "id": "OJY1HccXg4v3",
        "outputId": "d9784b86-1a0f-44ad-ce04-e07568206bec"
      },
      "execution_count": 19,
      "outputs": [
        {
          "output_type": "stream",
          "name": "stdout",
          "text": [
            "75\n"
          ]
        }
      ]
    },
    {
      "cell_type": "code",
      "source": [
        "#with inside function\n",
        "def find():\n",
        "  a=lambda x,y:x+y\n",
        "  return a"
      ],
      "metadata": {
        "id": "TPTtd4pAg_bE"
      },
      "execution_count": 21,
      "outputs": []
    },
    {
      "cell_type": "code",
      "source": [
        "a=find()"
      ],
      "metadata": {
        "id": "bP4CjdqDhN0J"
      },
      "execution_count": 22,
      "outputs": []
    },
    {
      "cell_type": "code",
      "source": [
        "print(a(15,5))"
      ],
      "metadata": {
        "colab": {
          "base_uri": "https://localhost:8080/"
        },
        "id": "kkiQpRyQhVGb",
        "outputId": "8b6a81fb-3380-4a91-82b3-c4e24cf70112"
      },
      "execution_count": 23,
      "outputs": [
        {
          "output_type": "stream",
          "name": "stdout",
          "text": [
            "20\n"
          ]
        }
      ]
    },
    {
      "cell_type": "code",
      "source": [
        "\n",
        "a=lambda x,y,z,g:x+y*z/g#multiple arguments but single expression"
      ],
      "metadata": {
        "id": "3K4zDRIChZXp"
      },
      "execution_count": 25,
      "outputs": []
    },
    {
      "cell_type": "code",
      "source": [
        "print(a(2,4,6,8))"
      ],
      "metadata": {
        "colab": {
          "base_uri": "https://localhost:8080/"
        },
        "id": "gIu8G6xGhtdj",
        "outputId": "c6da697c-6383-4f1c-9c89-3f3aca0b61cf"
      },
      "execution_count": 26,
      "outputs": [
        {
          "output_type": "stream",
          "name": "stdout",
          "text": [
            "5.0\n"
          ]
        }
      ]
    },
    {
      "cell_type": "markdown",
      "source": [
        "# Global Variable:\n",
        "\n",
        ". Used to declare a variable as global inside a function.\n",
        "\n",
        ". Allows modifying a global variable inside a function.\n",
        "\n",
        ". Declared using the global keyword.\n",
        "\n",
        "# Local Variable:\n",
        "\n",
        ". Variables created inside a function are local to that function.\n",
        "\n",
        ". They cannot be accessed outside the function.\n",
        "\n",
        ". Automatically deleted after the function finishes execution\n"
      ],
      "metadata": {
        "id": "Icbm3hD7ihnt"
      }
    },
    {
      "cell_type": "code",
      "source": [
        "#Global and Local Variable\n",
        "glo=\"hello global\"#we can use global variable anywhere\n",
        "def local():\n",
        "  local=\"i am local variable\"\n",
        "  print(local)"
      ],
      "metadata": {
        "id": "neF8uA8niErO"
      },
      "execution_count": 27,
      "outputs": []
    },
    {
      "cell_type": "code",
      "source": [
        "print(glo)\n"
      ],
      "metadata": {
        "colab": {
          "base_uri": "https://localhost:8080/"
        },
        "id": "QSEQXesRjGJI",
        "outputId": "1c1ba6cc-f798-48b9-ee68-524d671ef002"
      },
      "execution_count": 30,
      "outputs": [
        {
          "output_type": "stream",
          "name": "stdout",
          "text": [
            "hello global\n"
          ]
        }
      ]
    },
    {
      "cell_type": "code",
      "source": [
        "print(local)#it gives the location of it"
      ],
      "metadata": {
        "colab": {
          "base_uri": "https://localhost:8080/"
        },
        "id": "SyHjw66JjXsi",
        "outputId": "55e9c812-3149-458c-b896-883bb8fa7ba5"
      },
      "execution_count": 32,
      "outputs": [
        {
          "output_type": "stream",
          "name": "stdout",
          "text": [
            "<function local at 0x796e99180680>\n"
          ]
        }
      ]
    },
    {
      "cell_type": "code",
      "source": [
        "local()#to show value in local variable"
      ],
      "metadata": {
        "colab": {
          "base_uri": "https://localhost:8080/"
        },
        "id": "M-ecYqJvjyVe",
        "outputId": "d38d36bd-eca1-4b02-e6f9-1a966a507cbd"
      },
      "execution_count": 33,
      "outputs": [
        {
          "output_type": "stream",
          "name": "stdout",
          "text": [
            "i am local variable\n"
          ]
        }
      ]
    },
    {
      "cell_type": "code",
      "source": [
        "glo=\"hello global\"#we can use global variable anywhere\n",
        "def local():\n",
        "  local=\"i am local variable\"\n",
        "  print(local)\n",
        "\n",
        "  print(glo)"
      ],
      "metadata": {
        "id": "OzXQk_IPjzQE"
      },
      "execution_count": 36,
      "outputs": []
    },
    {
      "cell_type": "code",
      "source": [
        "print(local)"
      ],
      "metadata": {
        "colab": {
          "base_uri": "https://localhost:8080/"
        },
        "id": "xl8W3K1kkA7M",
        "outputId": "b4a250ce-d141-48e7-c0a3-001dca02f33e"
      },
      "execution_count": 38,
      "outputs": [
        {
          "output_type": "stream",
          "name": "stdout",
          "text": [
            "<function local at 0x796e90368680>\n"
          ]
        }
      ]
    },
    {
      "cell_type": "code",
      "source": [
        "local()#to show value in local variable and we can get global variable as well by printing it"
      ],
      "metadata": {
        "colab": {
          "base_uri": "https://localhost:8080/"
        },
        "id": "Dk1YLxXPkIJ0",
        "outputId": "8a6712c0-2bfa-44ee-f411-b1b9c87635d9"
      },
      "execution_count": 39,
      "outputs": [
        {
          "output_type": "stream",
          "name": "stdout",
          "text": [
            "i am local variable\n",
            "hello global\n"
          ]
        }
      ]
    }
  ]
}