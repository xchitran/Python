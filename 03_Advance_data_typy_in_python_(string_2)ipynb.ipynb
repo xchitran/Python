{
  "nbformat": 4,
  "nbformat_minor": 0,
  "metadata": {
    "colab": {
      "provenance": []
    },
    "kernelspec": {
      "name": "python3",
      "display_name": "Python 3"
    },
    "language_info": {
      "name": "python"
    }
  },
  "cells": [
    {
      "cell_type": "markdown",
      "source": [
        "#2.String( ) :\n",
        "\n",
        "A string is a sequence of characters.\n",
        "Enclosed in single quotes (' '), double quotes (\" \"), or triple quotes (''' ''') for multi-line text."
      ],
      "metadata": {
        "id": "6R8mCrLYsueF"
      }
    },
    {
      "cell_type": "code",
      "execution_count": 2,
      "metadata": {
        "id": "IEXPjvgOsl87",
        "colab": {
          "base_uri": "https://localhost:8080/"
        },
        "outputId": "680d7ed0-b4df-41d7-a439-8a87fc016204"
      },
      "outputs": [
        {
          "output_type": "stream",
          "name": "stdout",
          "text": [
            "my name is chitranjan \n",
            "my name is chitranjan\n",
            "my name is chitranjan\n"
          ]
        }
      ],
      "source": [
        "a ='my name is chitranjan '\n",
        "print(a)\n",
        "\n",
        "b = \"my name is chitranjan\"\n",
        "print(b)\n",
        "\n",
        "c = '''my name is chitranjan'''\n",
        "print(c)"
      ]
    },
    {
      "cell_type": "markdown",
      "source": [
        "# Indexing( ) :\n",
        "\n",
        "Indexing in Python strings allows you to access individual characters using their position.\n",
        "There are two types of indexing : positive and negative indexing."
      ],
      "metadata": {
        "id": "gHD-bPzlSmIS"
      }
    },
    {
      "cell_type": "code",
      "source": [
        "a = 'Hello'\n",
        "a[4]\n",
        ""
      ],
      "metadata": {
        "colab": {
          "base_uri": "https://localhost:8080/",
          "height": 35
        },
        "id": "zyljAUPRSa4v",
        "outputId": "2cdcf6c4-89dd-4002-cbb1-cc24db9dd23f"
      },
      "execution_count": 6,
      "outputs": [
        {
          "output_type": "execute_result",
          "data": {
            "text/plain": [
              "'o'"
            ],
            "application/vnd.google.colaboratory.intrinsic+json": {
              "type": "string"
            }
          },
          "metadata": {},
          "execution_count": 6
        }
      ]
    },
    {
      "cell_type": "code",
      "source": [
        "a='chitranjan'\n",
        "a[-3]"
      ],
      "metadata": {
        "colab": {
          "base_uri": "https://localhost:8080/",
          "height": 35
        },
        "id": "R49EUTYJTdvk",
        "outputId": "aad40b23-acce-47c6-d21a-9cc9d524cad5"
      },
      "execution_count": 8,
      "outputs": [
        {
          "output_type": "execute_result",
          "data": {
            "text/plain": [
              "'j'"
            ],
            "application/vnd.google.colaboratory.intrinsic+json": {
              "type": "string"
            }
          },
          "metadata": {},
          "execution_count": 8
        }
      ]
    },
    {
      "cell_type": "code",
      "source": [
        "a='chitranjan'\n",
        "a[-5]"
      ],
      "metadata": {
        "colab": {
          "base_uri": "https://localhost:8080/",
          "height": 35
        },
        "id": "YvC6hpidT5i2",
        "outputId": "b2e05fe9-afb0-418b-956e-2e46b1b4e9e4"
      },
      "execution_count": 9,
      "outputs": [
        {
          "output_type": "execute_result",
          "data": {
            "text/plain": [
              "'a'"
            ],
            "application/vnd.google.colaboratory.intrinsic+json": {
              "type": "string"
            }
          },
          "metadata": {},
          "execution_count": 9
        }
      ]
    },
    {
      "cell_type": "code",
      "source": [
        "a='chitranjan'\n",
        "a[-7]"
      ],
      "metadata": {
        "colab": {
          "base_uri": "https://localhost:8080/",
          "height": 35
        },
        "id": "8dIuXdrDUFPy",
        "outputId": "0696c32c-fd71-447d-95eb-80be87d03860"
      },
      "execution_count": 10,
      "outputs": [
        {
          "output_type": "execute_result",
          "data": {
            "text/plain": [
              "'t'"
            ],
            "application/vnd.google.colaboratory.intrinsic+json": {
              "type": "string"
            }
          },
          "metadata": {},
          "execution_count": 10
        }
      ]
    },
    {
      "cell_type": "markdown",
      "source": [
        "# Slicing( ) :\n",
        "\n",
        "Slicing is used to extract a portion (substring) of a string."
      ],
      "metadata": {
        "id": "L9bB9JySUUo7"
      }
    },
    {
      "cell_type": "code",
      "source": [
        "a='chitranjan'\n",
        "a[5:]"
      ],
      "metadata": {
        "colab": {
          "base_uri": "https://localhost:8080/",
          "height": 35
        },
        "id": "6deYX_iDVPoo",
        "outputId": "51f8d0ec-9e8e-47db-ad14-fd51c7bd5e0e"
      },
      "execution_count": 12,
      "outputs": [
        {
          "output_type": "execute_result",
          "data": {
            "text/plain": [
              "'anjan'"
            ],
            "application/vnd.google.colaboratory.intrinsic+json": {
              "type": "string"
            }
          },
          "metadata": {},
          "execution_count": 12
        }
      ]
    },
    {
      "cell_type": "code",
      "source": [
        "a='chitranjan'\n",
        "a[:6]"
      ],
      "metadata": {
        "colab": {
          "base_uri": "https://localhost:8080/",
          "height": 35
        },
        "id": "CzA9GzV6VyPH",
        "outputId": "17dc31fc-64cf-45d0-b6ef-11e01208c954"
      },
      "execution_count": 20,
      "outputs": [
        {
          "output_type": "execute_result",
          "data": {
            "text/plain": [
              "'chitra'"
            ],
            "application/vnd.google.colaboratory.intrinsic+json": {
              "type": "string"
            }
          },
          "metadata": {},
          "execution_count": 20
        }
      ]
    },
    {
      "cell_type": "code",
      "source": [
        "a='chitranjan'\n",
        "a[4:6]"
      ],
      "metadata": {
        "colab": {
          "base_uri": "https://localhost:8080/",
          "height": 35
        },
        "id": "EtgBFhz_XHnw",
        "outputId": "aaeb1ef1-20c6-433f-f372-fe8b68dfe669"
      },
      "execution_count": 21,
      "outputs": [
        {
          "output_type": "execute_result",
          "data": {
            "text/plain": [
              "'ra'"
            ],
            "application/vnd.google.colaboratory.intrinsic+json": {
              "type": "string"
            }
          },
          "metadata": {},
          "execution_count": 21
        }
      ]
    },
    {
      "cell_type": "code",
      "source": [
        "\n",
        "#[Start:End:Stepsize]\n",
        "#Skip the values based on the stepsize\n",
        "a = 'CHITRANJAN'\n",
        "a[0:8:2]"
      ],
      "metadata": {
        "colab": {
          "base_uri": "https://localhost:8080/",
          "height": 35
        },
        "id": "xMHWBBU4XR1M",
        "outputId": "c614d666-f9ac-41bb-b5ed-ece45f8c4c78"
      },
      "execution_count": 37,
      "outputs": [
        {
          "output_type": "execute_result",
          "data": {
            "text/plain": [
              "'CIRN'"
            ],
            "application/vnd.google.colaboratory.intrinsic+json": {
              "type": "string"
            }
          },
          "metadata": {},
          "execution_count": 37
        }
      ]
    },
    {
      "cell_type": "code",
      "source": [
        "a = 'CHITRANJAN'\n",
        "a[-6:-2]"
      ],
      "metadata": {
        "colab": {
          "base_uri": "https://localhost:8080/",
          "height": 35
        },
        "id": "Hp_NDfqdZY9V",
        "outputId": "89c5f04a-1b9d-426c-9bc9-eeb303329fb7"
      },
      "execution_count": 44,
      "outputs": [
        {
          "output_type": "execute_result",
          "data": {
            "text/plain": [
              "'RANJ'"
            ],
            "application/vnd.google.colaboratory.intrinsic+json": {
              "type": "string"
            }
          },
          "metadata": {},
          "execution_count": 44
        }
      ]
    },
    {
      "cell_type": "markdown",
      "source": [
        "# String Format:\n",
        "\n",
        "1.formet method\n",
        "\n",
        "\n",
        ".The format() method allows inserting variables into a string using {} placeholders, supporting both positional and named arguments.\n",
        ".it provides advanced formatting options like alignment, padding, and number formatting (e.g., {:.2f} for two decimal places).\n"
      ],
      "metadata": {
        "id": "dF3f5vtqeEw8"
      }
    },
    {
      "cell_type": "code",
      "source": [
        "name = 'chitranjan'\n",
        "age = '22'\n",
        "print('My name is {} and My age is {} year old'.format(name,age))\n",
        ""
      ],
      "metadata": {
        "colab": {
          "base_uri": "https://localhost:8080/"
        },
        "id": "nnh528sJdXFJ",
        "outputId": "21aeb9ad-976c-46db-8e62-c26a59f9c19e"
      },
      "execution_count": 45,
      "outputs": [
        {
          "output_type": "stream",
          "name": "stdout",
          "text": [
            "My name is chitranjan and My age is 22 year old\n"
          ]
        }
      ]
    },
    {
      "cell_type": "code",
      "source": [
        "name = 'j.j'\n",
        "place = 'ara'\n",
        "print('{} college is {}'.format(name,place))"
      ],
      "metadata": {
        "colab": {
          "base_uri": "https://localhost:8080/"
        },
        "id": "v8V05MKpewZx",
        "outputId": "217690ba-c19d-45b4-f500-e981b50023aa"
      },
      "execution_count": 1,
      "outputs": [
        {
          "output_type": "stream",
          "name": "stdout",
          "text": [
            "j.j college is ara\n"
          ]
        }
      ]
    },
    {
      "cell_type": "markdown",
      "source": [
        "(2) **f.string method**\n",
        "\n",
        "f-strings let you insert variables directly into a string using {}.\n",
        "They are faster than .format() formatting because they are evaluated at runtime directly."
      ],
      "metadata": {
        "id": "AFFYTC96uIX8"
      }
    },
    {
      "cell_type": "code",
      "source": [
        "name = 'chitranjan'\n",
        "age = '22'\n",
        "print(f'My name is {name} and My age is {age} year old')\n",
        ""
      ],
      "metadata": {
        "colab": {
          "base_uri": "https://localhost:8080/"
        },
        "id": "sfnEMQEPt9Qr",
        "outputId": "2fe2a015-418b-41ac-9006-259b90c263da"
      },
      "execution_count": 3,
      "outputs": [
        {
          "output_type": "stream",
          "name": "stdout",
          "text": [
            "My name is chitranjan and My age is 22 year old\n"
          ]
        }
      ]
    },
    {
      "cell_type": "code",
      "source": [
        "name = 'j.j'\n",
        "place = 'ara'\n",
        "print(f'{name} college is is {place}')\n",
        ""
      ],
      "metadata": {
        "colab": {
          "base_uri": "https://localhost:8080/"
        },
        "id": "LnXCwGWNu8db",
        "outputId": "e38d60a3-4137-4747-e3bd-0ff77878f1b1"
      },
      "execution_count": 5,
      "outputs": [
        {
          "output_type": "stream",
          "name": "stdout",
          "text": [
            "j.j college is is ara\n"
          ]
        }
      ]
    },
    {
      "cell_type": "markdown",
      "source": [
        "(**3) concatination:**\n",
        "\n",
        ".Joining two or more strings using the + operator.\n",
        ".using += allows adding strings to an existing string."
      ],
      "metadata": {
        "id": "DzgPJ-G1vUvN"
      }
    },
    {
      "cell_type": "code",
      "source": [
        "a = 'hello'\n",
        "b = 'chitranjan'\n",
        "print(a+\" \"+b)"
      ],
      "metadata": {
        "colab": {
          "base_uri": "https://localhost:8080/"
        },
        "id": "w7HxSeXDvHAX",
        "outputId": "7494f175-bce0-47fe-ca1a-6ffbc0a39489"
      },
      "execution_count": 7,
      "outputs": [
        {
          "output_type": "stream",
          "name": "stdout",
          "text": [
            "hello chitranjan\n"
          ]
        }
      ]
    },
    {
      "cell_type": "code",
      "source": [
        "a = 'hello'\n",
        "a += 'chitranjan'\n",
        "print(a)\n",
        ""
      ],
      "metadata": {
        "colab": {
          "base_uri": "https://localhost:8080/"
        },
        "id": "Wude6HnFv9Xf",
        "outputId": "9b4ee21d-8712-4b7e-baea-c925557c50c8"
      },
      "execution_count": 8,
      "outputs": [
        {
          "output_type": "stream",
          "name": "stdout",
          "text": [
            "hellochitranjan\n"
          ]
        }
      ]
    },
    {
      "cell_type": "code",
      "source": [
        "a = 'hello'\n",
        "b = 'chitranjan'\n",
        "print(a+b)\n",
        ""
      ],
      "metadata": {
        "colab": {
          "base_uri": "https://localhost:8080/"
        },
        "id": "MLJ1fvNIwQCt",
        "outputId": "60d070ab-6342-4230-b9d5-e60efe036c21"
      },
      "execution_count": 9,
      "outputs": [
        {
          "output_type": "stream",
          "name": "stdout",
          "text": [
            "hellochitranjan\n"
          ]
        }
      ]
    },
    {
      "cell_type": "markdown",
      "source": [
        "(4) Repetition( ):\n",
        "\n",
        ".Repeating a string multiple times using the * operator.\n",
        ".It is useful for creating patterns or repeating characters easily."
      ],
      "metadata": {
        "id": "0_Rp7jCtwpAH"
      }
    },
    {
      "cell_type": "code",
      "source": [
        "a = \"Booking start at 9:00 PM\"\n",
        "a * 7"
      ],
      "metadata": {
        "colab": {
          "base_uri": "https://localhost:8080/",
          "height": 53
        },
        "id": "2ScbSFfGwbXH",
        "outputId": "ddef82e7-648d-44b3-f122-d687ca41f3ec"
      },
      "execution_count": 11,
      "outputs": [
        {
          "output_type": "execute_result",
          "data": {
            "text/plain": [
              "'Booking start at 9:00 PMBooking start at 9:00 PMBooking start at 9:00 PMBooking start at 9:00 PMBooking start at 9:00 PMBooking start at 9:00 PMBooking start at 9:00 PM'"
            ],
            "application/vnd.google.colaboratory.intrinsic+json": {
              "type": "string"
            }
          },
          "metadata": {},
          "execution_count": 11
        }
      ]
    },
    {
      "cell_type": "code",
      "source": [
        "print(\"a\" * 3)"
      ],
      "metadata": {
        "colab": {
          "base_uri": "https://localhost:8080/"
        },
        "id": "hGysVJupxKFp",
        "outputId": "2b99c79b-8117-4773-e239-9164d38949dc"
      },
      "execution_count": 12,
      "outputs": [
        {
          "output_type": "stream",
          "name": "stdout",
          "text": [
            "aaa\n"
          ]
        }
      ]
    },
    {
      "cell_type": "markdown",
      "source": [
        "# String Methods:\n",
        "\n",
        "**1.len( ):**\n",
        "\n",
        "Returns the number of characters in a string, including spaces.\n",
        "It helps in finding the length of a string for loops, validations, and processing."
      ],
      "metadata": {
        "id": "_gVTQktIxiBR"
      }
    },
    {
      "cell_type": "code",
      "source": [
        "a = \"my name is chitranjan\"\n",
        "len(a)"
      ],
      "metadata": {
        "colab": {
          "base_uri": "https://localhost:8080/"
        },
        "id": "1IGZOELFxX_L",
        "outputId": "82390768-4135-43ea-d238-9ec4514cf320"
      },
      "execution_count": 18,
      "outputs": [
        {
          "output_type": "execute_result",
          "data": {
            "text/plain": [
              "21"
            ]
          },
          "metadata": {},
          "execution_count": 18
        }
      ]
    },
    {
      "cell_type": "markdown",
      "source": [
        "**2. upper( ):**\n",
        "\n",
        ".Converts all letters in a string to uppercase.\n",
        ".It does not change the original string; it returns a new uppercase version.\n"
      ],
      "metadata": {
        "id": "16FRUjU7yocv"
      }
    },
    {
      "cell_type": "code",
      "source": [
        "a = \"my name is chitranjan\"\n",
        "a.upper()\n",
        "\n"
      ],
      "metadata": {
        "colab": {
          "base_uri": "https://localhost:8080/",
          "height": 35
        },
        "id": "webPKAuAyNVz",
        "outputId": "114e594e-dbc8-41c3-8a42-efe6288cd257"
      },
      "execution_count": 19,
      "outputs": [
        {
          "output_type": "execute_result",
          "data": {
            "text/plain": [
              "'MY NAME IS CHITRANJAN'"
            ],
            "application/vnd.google.colaboratory.intrinsic+json": {
              "type": "string"
            }
          },
          "metadata": {},
          "execution_count": 19
        }
      ]
    },
    {
      "cell_type": "code",
      "source": [
        "\n",
        "print(\"my name is chitranjan\".upper())"
      ],
      "metadata": {
        "colab": {
          "base_uri": "https://localhost:8080/"
        },
        "id": "Mg_POhXuzEXi",
        "outputId": "c1acbc52-a9e6-4a93-b988-244828fd103d"
      },
      "execution_count": 20,
      "outputs": [
        {
          "output_type": "stream",
          "name": "stdout",
          "text": [
            "MY NAME IS CHITRANJAN\n"
          ]
        }
      ]
    },
    {
      "cell_type": "markdown",
      "source": [
        "**3.lower( ) :**\n",
        "\n",
        "Converts all letters in a string to lowercase.\n",
        "It does not modify the original string but returns a new lowercase version."
      ],
      "metadata": {
        "id": "ORMBpUoLzo9z"
      }
    },
    {
      "cell_type": "code",
      "source": [
        "a = \"MY NAME IS CHITRANJAN\"\n",
        "a.lower()"
      ],
      "metadata": {
        "colab": {
          "base_uri": "https://localhost:8080/",
          "height": 35
        },
        "id": "X7n_KCZQzdpo",
        "outputId": "e4f561d6-2cab-43c1-8612-6bbe923fc8dd"
      },
      "execution_count": 21,
      "outputs": [
        {
          "output_type": "execute_result",
          "data": {
            "text/plain": [
              "'my name is chitranjan'"
            ],
            "application/vnd.google.colaboratory.intrinsic+json": {
              "type": "string"
            }
          },
          "metadata": {},
          "execution_count": 21
        }
      ]
    },
    {
      "cell_type": "code",
      "source": [
        "print(\"MY NAME CHITRANJAN\".lower())"
      ],
      "metadata": {
        "colab": {
          "base_uri": "https://localhost:8080/"
        },
        "id": "9qfzNR1z0M_N",
        "outputId": "fb526aca-8dfa-46df-f41d-53ef25681581"
      },
      "execution_count": 22,
      "outputs": [
        {
          "output_type": "stream",
          "name": "stdout",
          "text": [
            "my name chitranjan\n"
          ]
        }
      ]
    },
    {
      "cell_type": "markdown",
      "source": [
        "**4.count( ):**\n",
        "\n",
        "Counts how many times a specific substring appears in a string.\n",
        "It is case-sensitive, [\"Hello\".count(\"h\") and \"Hello\".count(\"H\") give different results]."
      ],
      "metadata": {
        "id": "dQbjuz5i0v4y"
      }
    },
    {
      "cell_type": "code",
      "source": [
        "a = \"hello hello hello\"\n",
        "a.count('h')\n",
        ""
      ],
      "metadata": {
        "colab": {
          "base_uri": "https://localhost:8080/"
        },
        "id": "EjddUhyZ0lPS",
        "outputId": "d9e97a5e-19c3-45ab-f7ae-6b5fbdeffe56"
      },
      "execution_count": 23,
      "outputs": [
        {
          "output_type": "execute_result",
          "data": {
            "text/plain": [
              "3"
            ]
          },
          "metadata": {},
          "execution_count": 23
        }
      ]
    },
    {
      "cell_type": "code",
      "source": [
        "print(\"MY NAME IS CHITRANJAN\".count('C'))\n",
        ""
      ],
      "metadata": {
        "colab": {
          "base_uri": "https://localhost:8080/"
        },
        "id": "H2mWuXWO13LQ",
        "outputId": "489d9419-bfab-4d26-97d3-9f2129262e90"
      },
      "execution_count": 25,
      "outputs": [
        {
          "output_type": "stream",
          "name": "stdout",
          "text": [
            "1\n"
          ]
        }
      ]
    },
    {
      "cell_type": "markdown",
      "source": [
        "**5.split( ):**\n",
        "\n",
        ". Breaks a string into a list of words based on a separator (default is space).\n",
        ". It helps in processing sentences by dividing them into smaller parts.\n"
      ],
      "metadata": {
        "id": "zCKtK4BP2mI_"
      }
    },
    {
      "cell_type": "code",
      "source": [
        "a = \"MY NAME IS CHITRANJAN\"\n",
        "a.split()\n",
        ""
      ],
      "metadata": {
        "colab": {
          "base_uri": "https://localhost:8080/"
        },
        "id": "GV1eZxdB2Mxx",
        "outputId": "35768809-6dee-493a-b3a0-84c9791d2797"
      },
      "execution_count": 26,
      "outputs": [
        {
          "output_type": "execute_result",
          "data": {
            "text/plain": [
              "['MY', 'NAME', 'IS', 'CHITRANJAN']"
            ]
          },
          "metadata": {},
          "execution_count": 26
        }
      ]
    },
    {
      "cell_type": "code",
      "source": [
        "print(\"MY NAME IS CHITRANJAN\".split())"
      ],
      "metadata": {
        "colab": {
          "base_uri": "https://localhost:8080/"
        },
        "id": "RkBmI6oI3LaP",
        "outputId": "82e2b953-a6b7-434c-d650-a031a9a5fe87"
      },
      "execution_count": 27,
      "outputs": [
        {
          "output_type": "stream",
          "name": "stdout",
          "text": [
            "['MY', 'NAME', 'IS', 'CHITRANJAN']\n"
          ]
        }
      ]
    },
    {
      "cell_type": "markdown",
      "source": [
        "**6.trip( ):**\n",
        "\n",
        "Removes spaces (or specified characters) from the beginning and end of a string.\n",
        "It does not change the original string but returns a new trimmed version.\n"
      ],
      "metadata": {
        "id": "s98v7LpQ3dLu"
      }
    },
    {
      "cell_type": "code",
      "source": [
        "a = \"MY NAME IS CHITRANJAN\"\n",
        "a.strip()"
      ],
      "metadata": {
        "colab": {
          "base_uri": "https://localhost:8080/",
          "height": 35
        },
        "id": "qFR-vG-N3YKN",
        "outputId": "d4433fd8-aa41-4bbc-cb50-7541a4b92c8b"
      },
      "execution_count": 28,
      "outputs": [
        {
          "output_type": "execute_result",
          "data": {
            "text/plain": [
              "'MY NAME IS CHITRANJAN'"
            ],
            "application/vnd.google.colaboratory.intrinsic+json": {
              "type": "string"
            }
          },
          "metadata": {},
          "execution_count": 28
        }
      ]
    },
    {
      "cell_type": "code",
      "source": [
        "print(\"  MY NAME IS CHITRANJAN  \".strip())"
      ],
      "metadata": {
        "colab": {
          "base_uri": "https://localhost:8080/"
        },
        "id": "YkjYNhLc3yhx",
        "outputId": "05b61623-052e-4ef2-9e78-8025dd15ee66"
      },
      "execution_count": 31,
      "outputs": [
        {
          "output_type": "stream",
          "name": "stdout",
          "text": [
            "MY NAME IS CHITRANJAN\n"
          ]
        }
      ]
    },
    {
      "cell_type": "markdown",
      "source": [
        "**7.center( )**:\n",
        "\n",
        "The center(width, fillchar) method in Python returns a new string that is centered within the given width, using the specified fill character (default is a space)."
      ],
      "metadata": {
        "id": "a2voBQck6g9C"
      }
    },
    {
      "cell_type": "code",
      "source": [
        "a = \"hello\"\n",
        "print(a.center(9, \"_\"))\n",
        "\n"
      ],
      "metadata": {
        "colab": {
          "base_uri": "https://localhost:8080/"
        },
        "id": "NB9-DEWS5AVt",
        "outputId": "5c373efc-6376-4aaa-bbf8-0a8c57f39cea"
      },
      "execution_count": 34,
      "outputs": [
        {
          "output_type": "stream",
          "name": "stdout",
          "text": [
            "__hello__\n"
          ]
        }
      ]
    },
    {
      "cell_type": "markdown",
      "source": [
        "# 8.endswith( ):\n",
        "\n",
        ".string ends with the specified suffix and returns True or False.\n",
        ".It can also check within a specific range using optional start and end parameters."
      ],
      "metadata": {
        "id": "cKeHDHMd7wNS"
      }
    },
    {
      "cell_type": "code",
      "source": [
        "a = \"hello world\"\n",
        "print(a.endswith(\"world\"))\n",
        ""
      ],
      "metadata": {
        "colab": {
          "base_uri": "https://localhost:8080/"
        },
        "id": "N4ywxeTf7K_F",
        "outputId": "09a37d45-32ce-41f8-93ca-3a8163bb5659"
      },
      "execution_count": 35,
      "outputs": [
        {
          "output_type": "stream",
          "name": "stdout",
          "text": [
            "True\n"
          ]
        }
      ]
    },
    {
      "cell_type": "code",
      "source": [
        "print(\"hello world\".endswith(\"d\"))"
      ],
      "metadata": {
        "colab": {
          "base_uri": "https://localhost:8080/"
        },
        "id": "fCpvLTFq8FJy",
        "outputId": "735f4acc-8ca2-41a4-c421-fc26c23606d3"
      },
      "execution_count": 36,
      "outputs": [
        {
          "output_type": "stream",
          "name": "stdout",
          "text": [
            "True\n"
          ]
        }
      ]
    },
    {
      "cell_type": "markdown",
      "source": [
        "# 9.expandtabs():\n",
        "\n",
        "Replaces tab characters (\\t) in a string with spaces.\n",
        "The tabsize parameter (default is 8) specifies the number of spaces per tab."
      ],
      "metadata": {
        "id": "1-qIru2N8UY7"
      }
    },
    {
      "cell_type": "code",
      "source": [
        "a = \"Hello\\tWorld\"\n",
        "print(a.expandtabs(4))"
      ],
      "metadata": {
        "colab": {
          "base_uri": "https://localhost:8080/"
        },
        "id": "YfmB74jl8Nlj",
        "outputId": "305edd51-c710-4227-c2e8-95d4d26c68c4"
      },
      "execution_count": 39,
      "outputs": [
        {
          "output_type": "stream",
          "name": "stdout",
          "text": [
            "Hello   World\n"
          ]
        }
      ]
    },
    {
      "cell_type": "code",
      "source": [
        "print(\"Hello\\tWorld\".expandtabs(4))\n",
        ""
      ],
      "metadata": {
        "colab": {
          "base_uri": "https://localhost:8080/"
        },
        "id": "lEmuTea_8qIW",
        "outputId": "e1b99f31-3baa-4287-b993-b80b985cfefa"
      },
      "execution_count": 40,
      "outputs": [
        {
          "output_type": "stream",
          "name": "stdout",
          "text": [
            "Hello   World\n"
          ]
        }
      ]
    },
    {
      "cell_type": "markdown",
      "source": [
        "10.find( ):\n",
        "\n",
        "Returns the lowest index of the specified substring within the string.\n",
        "If the substring is not found, it returns -1."
      ],
      "metadata": {
        "id": "4cm0LH5b-cyn"
      }
    },
    {
      "cell_type": "code",
      "source": [
        "a = \"hello world\"\n",
        "print(a.find(\"world\"))\n",
        ""
      ],
      "metadata": {
        "colab": {
          "base_uri": "https://localhost:8080/"
        },
        "id": "HVAtq_dM89fx",
        "outputId": "1570b001-b150-4324-ce97-9005fe4192e2"
      },
      "execution_count": 41,
      "outputs": [
        {
          "output_type": "stream",
          "name": "stdout",
          "text": [
            "6\n"
          ]
        }
      ]
    },
    {
      "cell_type": "code",
      "source": [
        "print(\"Hello World\".find(\"Python\"))\n",
        ""
      ],
      "metadata": {
        "colab": {
          "base_uri": "https://localhost:8080/"
        },
        "id": "Zqdf3ps9-wY0",
        "outputId": "fad44961-8989-4212-f2bc-9a7f471cb272"
      },
      "execution_count": 42,
      "outputs": [
        {
          "output_type": "stream",
          "name": "stdout",
          "text": [
            "-1\n"
          ]
        }
      ]
    },
    {
      "cell_type": "markdown",
      "source": [
        "**11.replace( ):**\n",
        "\n",
        ".Returns a new string where all occurrences of the old substring are replaced with new.\n",
        ".Replace(old, new, count) The optional count parameter specifies how many replacements to make"
      ],
      "metadata": {
        "id": "QGx3-igw-4k4"
      }
    },
    {
      "cell_type": "code",
      "source": [
        "\n",
        "a = \"hello world\"\n",
        "print(a.replace(\"world\", \"Python\"))"
      ],
      "metadata": {
        "colab": {
          "base_uri": "https://localhost:8080/"
        },
        "id": "zDV5iw9e-1co",
        "outputId": "e902bc7c-0b72-4a89-871c-b24ac48b31db"
      },
      "execution_count": 43,
      "outputs": [
        {
          "output_type": "stream",
          "name": "stdout",
          "text": [
            "hello Python\n"
          ]
        }
      ]
    },
    {
      "cell_type": "code",
      "source": [
        "\n",
        "print(\"hello world\".replace(\"o\",\"#\",3))\n",
        ""
      ],
      "metadata": {
        "colab": {
          "base_uri": "https://localhost:8080/"
        },
        "id": "6GEZsocU_RBF",
        "outputId": "675c812d-5388-4199-99ac-38f3fd9bd00a"
      },
      "execution_count": 44,
      "outputs": [
        {
          "output_type": "stream",
          "name": "stdout",
          "text": [
            "hell# w#rld\n"
          ]
        }
      ]
    },
    {
      "cell_type": "markdown",
      "source": [
        "**12.translate( )**:\n",
        "\n",
        "Replaces characters in a string based on a translation table created using str.maketrans().\n",
        "\n"
      ],
      "metadata": {
        "id": "GE5KIYw8_gX0"
      }
    },
    {
      "cell_type": "code",
      "source": [
        "a = str.maketrans(\"aioue\", \"12345\")\n",
        "b = \"hello world\"\n",
        "print(b.translate(a))"
      ],
      "metadata": {
        "colab": {
          "base_uri": "https://localhost:8080/"
        },
        "id": "xIInj1yy_Zzs",
        "outputId": "e42232f1-f005-4532-f0eb-4735384f53c1"
      },
      "execution_count": 45,
      "outputs": [
        {
          "output_type": "stream",
          "name": "stdout",
          "text": [
            "h5ll3 w3rld\n"
          ]
        }
      ]
    },
    {
      "cell_type": "code",
      "source": [
        "print(\"hello world\".translate(str.maketrans(\"aioue\", \"12345\")))\n",
        ""
      ],
      "metadata": {
        "colab": {
          "base_uri": "https://localhost:8080/"
        },
        "id": "9--NRDX1_x5i",
        "outputId": "cc742766-ac90-4dd0-ce2f-8350d85b7374"
      },
      "execution_count": 47,
      "outputs": [
        {
          "output_type": "stream",
          "name": "stdout",
          "text": [
            "h5ll3 w3rld\n"
          ]
        }
      ]
    },
    {
      "cell_type": "code",
      "source": [],
      "metadata": {
        "id": "0LeaLUIX_9YY"
      },
      "execution_count": null,
      "outputs": []
    }
  ]
}