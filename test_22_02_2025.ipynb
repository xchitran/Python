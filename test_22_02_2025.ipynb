{
  "nbformat": 4,
  "nbformat_minor": 0,
  "metadata": {
    "colab": {
      "provenance": []
    },
    "kernelspec": {
      "name": "python3",
      "display_name": "Python 3"
    },
    "language_info": {
      "name": "python"
    }
  },
  "cells": [
    {
      "cell_type": "markdown",
      "source": [
        "#(1) what is  python?\n",
        "\n",
        "Ans-python is a high -level interpreted programing\n",
        "language that is widely used for verious purposes\n",
        "such as:\n",
        "\n",
        "1. web development\n",
        "2.data analysis\n",
        "3.Ai\n",
        "4.automation\n"
      ],
      "metadata": {
        "id": "VCksRUDcHtR9"
      }
    },
    {
      "cell_type": "markdown",
      "source": [
        "(2) what are the key features of python?\n",
        "\n",
        "Ans-1.Readability\n",
        "2.simplicty\n",
        "3. interprited language\n",
        "4.high level languge\n",
        "5.open sorce\n",
        "6.object oriented\n",
        "7.versatally\n",
        "8.dynamic typing"
      ],
      "metadata": {
        "id": "1y_ZSy6yKVW2"
      }
    },
    {
      "cell_type": "code",
      "source": [],
      "metadata": {
        "id": "IEpM24iBkz0i"
      },
      "execution_count": null,
      "outputs": []
    },
    {
      "cell_type": "markdown",
      "source": [
        "# how is python diffrent from other programing language?\n",
        "\n",
        "Ans-1. simpliccity and readability\n",
        "2.mamory mamory management\n",
        "3.strong commuty sapport"
      ],
      "metadata": {
        "id": "N80UUJncNqzV"
      }
    },
    {
      "cell_type": "markdown",
      "source": [
        "what are python data type ?\n",
        "\n",
        "\n",
        "Ans -1.Numeric: int, float, complex\n",
        "\n",
        "2.Sequence: list, tuple, range\n",
        "\n",
        "3.Text: str\n",
        "\n",
        "4.Set: set, frozenset\n",
        "\n",
        "5.Mapping: dict\n",
        "\n",
        "6.Boolean: bool\n",
        "\n",
        "7.Binary: bytes, bytearray, memoryview"
      ],
      "metadata": {
        "id": "Vp87p9I8R0TF"
      }
    },
    {
      "cell_type": "markdown",
      "source": [
        "# What is the difference between list and tuple?\n",
        "\n",
        "Ans-.mutability: list are mutable (can be chenged after cretion)\n",
        "while tuples are immutable(cannot be changed)\n",
        "syntax:list are difibed by [] and tuples()"
      ],
      "metadata": {
        "id": "otWPFRltTvt9"
      }
    },
    {
      "cell_type": "markdown",
      "source": [
        "# how do you comment in python\n",
        "\n",
        "Ans - single line comments :we use # symbol at starting of the line\n",
        "     Multipal -line :we triple quotes \"\"\" or ''' to block of comments\n",
        "\n",
        "\n",
        "\n"
      ],
      "metadata": {
        "id": "z5bPnFKnYdND"
      }
    },
    {
      "cell_type": "markdown",
      "source": [
        "# what  is the difference between break, continue and pass\n",
        "\n",
        "Ans- break:terminates the loop entirely\n",
        "     continue:skips the current iteration and moves to next\n",
        "     pass:does nothin"
      ],
      "metadata": {
        "id": "e555tt-OaNZz"
      }
    },
    {
      "cell_type": "markdown",
      "source": [
        "# what is the difference between is and==?\n",
        "\n",
        "Ans -is: checks for reference item(whether two veribles refer to same\n",
        "object in memori\n",
        ".== checks for velue equlity(whether the velues of two object same)"
      ],
      "metadata": {
        "id": "SGNOanKZeB4N"
      }
    },
    {
      "cell_type": "markdown",
      "source": [
        "# How do you define a function in Python?"
      ],
      "metadata": {
        "id": "pecv9sv6iXo-"
      }
    },
    {
      "cell_type": "code",
      "source": [
        "def sum_of_2(a,b):\n",
        "  x=a + b\n",
        "  return x"
      ],
      "metadata": {
        "id": "uLRhDit6j1Mh"
      },
      "execution_count": null,
      "outputs": []
    },
    {
      "cell_type": "markdown",
      "source": [
        "# what is a class and an object in python?\n",
        "\n",
        "Ans-Class: class is a bluprint for an object.\n",
        "like- real word enlity has some propertis or behaviar wich is  represent by class verialbes and method in programing.\n",
        "\n",
        "object- as we know class is a logical\n",
        "eblity while an object is a typical or real eblity that work on class data."
      ],
      "metadata": {
        "id": "ceD4xvBKnJNz"
      }
    },
    {
      "cell_type": "code",
      "source": [
        "class A:\n",
        "\n",
        "  def __init__(self,age,name,address):\n",
        "    print(age,\"\",name,\"\",address)\n",
        "\n",
        "obj=A(10,\"teks\",\"hydrabad\")\n"
      ],
      "metadata": {
        "colab": {
          "base_uri": "https://localhost:8080/"
        },
        "id": "b1Io_CGykYGs",
        "outputId": "686c7475-3ed4-49d9-9259-c6874f193f80"
      },
      "execution_count": null,
      "outputs": [
        {
          "output_type": "stream",
          "name": "stdout",
          "text": [
            "10  teks  hydrabad\n"
          ]
        }
      ]
    },
    {
      "cell_type": "markdown",
      "source": [
        "# what is inharitance in python\n",
        "\n",
        "ans-when we difine aclass that inherits all the propertes of other class called inharitance"
      ],
      "metadata": {
        "id": "qCLx4nLl1xCX"
      }
    },
    {
      "cell_type": "markdown",
      "source": [
        "# how do you handle exception in python?\n",
        "\n",
        "ans-exception is nothin but runtime errors and it occurs due to incorrect\n",
        "implemention of logic"
      ],
      "metadata": {
        "id": "L18acFCW3Zm1"
      }
    },
    {
      "cell_type": "markdown",
      "source": [
        "## coding questions"
      ],
      "metadata": {
        "id": "lyMxYHq2U_za"
      }
    },
    {
      "cell_type": "markdown",
      "source": [
        "# (1) python code to reverse a string"
      ],
      "metadata": {
        "id": "9wfqrFYpZR9i"
      }
    },
    {
      "cell_type": "code",
      "source": [
        "a=\"chitranjan\"[::-1]\n",
        "print(a)"
      ],
      "metadata": {
        "colab": {
          "base_uri": "https://localhost:8080/"
        },
        "id": "rMxKWiQEZ2F0",
        "outputId": "cf6cb60e-3181-41d2-f95f-ee0a836803ea"
      },
      "execution_count": null,
      "outputs": [
        {
          "output_type": "stream",
          "name": "stdout",
          "text": [
            "najnartihc\n"
          ]
        }
      ]
    },
    {
      "cell_type": "markdown",
      "source": [
        "# (2) check if a number is even or odd"
      ],
      "metadata": {
        "id": "aAnz0YXwbvdx"
      }
    },
    {
      "cell_type": "code",
      "source": [
        "num=int(input(\"enter a number:\"))\n",
        "if num%2==0:\n",
        "  print(\"Even number\")\n",
        "else: print(\"odd number\")"
      ],
      "metadata": {
        "id": "aomMQobBkLzH",
        "colab": {
          "base_uri": "https://localhost:8080/"
        },
        "outputId": "0d22faa0-dc34-4252-8968-926a5b3cd55a"
      },
      "execution_count": null,
      "outputs": [
        {
          "output_type": "stream",
          "name": "stdout",
          "text": [
            "enter a number:8\n",
            "Even number\n"
          ]
        }
      ]
    },
    {
      "cell_type": "code",
      "source": [
        "num=int(input(\"enter a number:\"))\n",
        "if num%2==0:\n",
        "  print(\"Even number\")\n",
        "else: print(\"odd number\")"
      ],
      "metadata": {
        "id": "kvN_u2pPkRjl",
        "colab": {
          "base_uri": "https://localhost:8080/"
        },
        "outputId": "e9982bce-dd67-4a3a-da06-5e763bfd9362"
      },
      "execution_count": null,
      "outputs": [
        {
          "output_type": "stream",
          "name": "stdout",
          "text": [
            "enter a number:9\n",
            "odd number\n"
          ]
        }
      ]
    },
    {
      "cell_type": "markdown",
      "source": [
        "# (3) check if a string is a palindrome"
      ],
      "metadata": {
        "id": "v6hH6NqDmAlo"
      }
    },
    {
      "cell_type": "code",
      "source": [
        "value = input(\"enter the value to check for palindrome:\")\n",
        "revval=value[::-1]\n",
        "if (value==revval):\n",
        "  print(\" yes its palindrome\")\n",
        "else:\n",
        "    print(\"no its not  palindrome\")"
      ],
      "metadata": {
        "colab": {
          "base_uri": "https://localhost:8080/"
        },
        "id": "eFibKqJFlsen",
        "outputId": "f33bd2cd-cb6a-496c-92d8-3f38083059eb"
      },
      "execution_count": null,
      "outputs": [
        {
          "output_type": "stream",
          "name": "stdout",
          "text": [
            "enter the value to check for palindrome:racecar\n",
            " yes its palindrome\n"
          ]
        }
      ]
    },
    {
      "cell_type": "markdown",
      "source": [
        "# (4) calculate the factorial of a number"
      ],
      "metadata": {
        "id": "ZfnaA8CEuZcL"
      }
    },
    {
      "cell_type": "code",
      "source": [
        "\n",
        "a=int(input(\"enter number\"))\n",
        "fac =(1)\n",
        "while a>0:\n",
        "  fac=fac*a\n",
        "  a=a-1\n",
        "print(\"factorial =\",fac)"
      ],
      "metadata": {
        "colab": {
          "base_uri": "https://localhost:8080/"
        },
        "id": "rR8SrXwwqx-j",
        "outputId": "b460468e-95ac-4b9f-d8cd-0bf1d473b778"
      },
      "execution_count": null,
      "outputs": [
        {
          "output_type": "stream",
          "name": "stdout",
          "text": [
            "enter number5\n",
            "factorial = 120\n"
          ]
        }
      ]
    },
    {
      "cell_type": "markdown",
      "source": [
        "# (5)find the GCD of two number"
      ],
      "metadata": {
        "id": "YwPZR76I2UuY"
      }
    },
    {
      "cell_type": "code",
      "source": [
        "import math\n",
        "num1=20\n",
        "num2=28\n",
        "print(math.gcd(num1,num2))"
      ],
      "metadata": {
        "colab": {
          "base_uri": "https://localhost:8080/"
        },
        "id": "0eL0D2Dbzvy6",
        "outputId": "24b8f78c-7448-4a31-8abf-78fadf66a317"
      },
      "execution_count": null,
      "outputs": [
        {
          "output_type": "stream",
          "name": "stdout",
          "text": [
            "4\n"
          ]
        }
      ]
    },
    {
      "cell_type": "markdown",
      "source": [
        "## (6) remove duplicates from list"
      ],
      "metadata": {
        "id": "2LhxPLfp6f3f"
      }
    },
    {
      "cell_type": "code",
      "source": [
        "list=[10,20,20,30,40,40,50,50,60]\n",
        "list.remove(20)\n",
        "list.remove(50)\n",
        "list.remove(40)\n",
        "print(list)"
      ],
      "metadata": {
        "colab": {
          "base_uri": "https://localhost:8080/"
        },
        "id": "5f9_O3SP6TDH",
        "outputId": "aeb7dda3-ef98-4741-ecde-e4359c2b68cb"
      },
      "execution_count": null,
      "outputs": [
        {
          "output_type": "stream",
          "name": "stdout",
          "text": [
            "[10, 20, 30, 40, 50, 60]\n"
          ]
        }
      ]
    },
    {
      "cell_type": "markdown",
      "source": [
        "# (7)find the common elements in two lists"
      ],
      "metadata": {
        "id": "B0TvrkZ09UbD"
      }
    },
    {
      "cell_type": "code",
      "source": [
        "list1 =[2,4,6,8,10,12]\n",
        "list2 =[8,10,12,14,16]\n",
        "for i in list1:\n",
        "  for j in list2:\n",
        "    if i==j:\n",
        "      print(\"common elements:\",i)"
      ],
      "metadata": {
        "colab": {
          "base_uri": "https://localhost:8080/"
        },
        "id": "eBoiCTKz9Cur",
        "outputId": "b2d60258-7236-4e8c-9a16-d11cd2983636"
      },
      "execution_count": null,
      "outputs": [
        {
          "output_type": "stream",
          "name": "stdout",
          "text": [
            "common elements: 8\n",
            "common elements: 10\n",
            "common elements: 12\n"
          ]
        }
      ]
    }
  ]
}