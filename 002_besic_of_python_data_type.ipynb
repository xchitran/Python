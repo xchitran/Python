{
  "nbformat": 4,
  "nbformat_minor": 0,
  "metadata": {
    "colab": {
      "provenance": []
    },
    "kernelspec": {
      "name": "python3",
      "display_name": "Python 3"
    },
    "language_info": {
      "name": "python"
    }
  },
  "cells": [
    {
      "cell_type": "markdown",
      "source": [
        "# What is DataType:\n",
        "\n",
        "Ans-.In Python, a data type is a classification that specifies the type of value a variable can hold.\n",
        " .Datatypes help the computer understand how to store and process the data correctly.\n",
        ".Datatypes are just labels that make sure the computer knows what kind of information it’s handling\n",
        "\n"
      ],
      "metadata": {
        "id": "NmpuuaHTpp-W"
      }
    },
    {
      "cell_type": "code",
      "source": [
        "# Example For Integer\n",
        "a = 10\n",
        "b = 6 + 2\n",
        "c = 10 - 7\n",
        "d = 7 * 4\n",
        "e = 40 // 4\n",
        "f = 30 % 3\n",
        "g = int(\"123\")\n",
        "h = 60\n",
        "age = 20\n",
        "print(a, b, c, d, e, f, g, h, age)"
      ],
      "metadata": {
        "colab": {
          "base_uri": "https://localhost:8080/"
        },
        "id": "GR9vcT2GrcSS",
        "outputId": "259b06a6-000c-4281-acd3-b760969ddb3d"
      },
      "execution_count": 2,
      "outputs": [
        {
          "output_type": "stream",
          "name": "stdout",
          "text": [
            "10 8 3 28 10 0 123 60 20\n"
          ]
        }
      ]
    },
    {
      "cell_type": "code",
      "source": [
        "# Examples For Float\n",
        "a = 30.5\n",
        "b = 6.2 + 3.8\n",
        "e = 3.5 * 2\n",
        "f = 10 / 2\n",
        "g = 4.14 * 2\n",
        "h = round(75.78, 2)\n",
        "i = float(10)\n",
        "j = 9.81\n",
        "numbers = [1.1, 2.2, 3.3]\n",
        "print(a,b,c,d,e,f,g,h,i,j,numbers)"
      ],
      "metadata": {
        "colab": {
          "base_uri": "https://localhost:8080/"
        },
        "id": "G060LZIFsJom",
        "outputId": "84fa50bb-d2b1-444c-96ff-5889d66a65f6"
      },
      "execution_count": 6,
      "outputs": [
        {
          "output_type": "stream",
          "name": "stdout",
          "text": [
            "30.5 10.0 (-2+10j) 28 7.0 5.0 8.28 75.78 10.0 9.81 [1.1, 2.2, 3.3]\n"
          ]
        }
      ]
    },
    {
      "cell_type": "code",
      "source": [
        "# Examples For Complex\n",
        "a = 1 + 3j\n",
        "b = (1 + 5j) + (1 + 6j)\n",
        "c = (2 + 3j) * (1 + 1j)\n",
        "d = a.real\n",
        "e = a.imag\n",
        "f = 4 + 5j\n",
        "g = (3 + 6j) / (2 + 5j)\n",
        "print(a,b,c,d,e,f,g)\n",
        "\n"
      ],
      "metadata": {
        "colab": {
          "base_uri": "https://localhost:8080/"
        },
        "id": "oGeEbcuVuwkF",
        "outputId": "2150116c-da7b-4d5c-f43d-04cf1ca9f9fb"
      },
      "execution_count": 9,
      "outputs": [
        {
          "output_type": "stream",
          "name": "stdout",
          "text": [
            "(1+3j) (2+11j) (-1+5j) 1.0 3.0 (4+5j) (1.2413793103448276-0.10344827586206891j)\n"
          ]
        }
      ]
    },
    {
      "cell_type": "code",
      "source": [
        "#Examples For Boolean\n",
        "a = True\n",
        "b = 5 > 6\n",
        "c = (10 == 10)\n",
        "d = (10 != 5)\n",
        "e = True and False #using AND logical operator\n",
        "f = True or False  #using OR operator\n",
        "g = not True\n",
        "h = bool(1)  # Non-zero numbers are True\n",
        "i = bool(\"\")  # Empty string is False\n",
        "print(a,b,c,d,e,f,g,h,i)\n"
      ],
      "metadata": {
        "colab": {
          "base_uri": "https://localhost:8080/"
        },
        "id": "ng8WqJ4LvmzD",
        "outputId": "f788306d-c215-4e41-e0fb-57ef27393659"
      },
      "execution_count": 18,
      "outputs": [
        {
          "output_type": "stream",
          "name": "stdout",
          "text": [
            "True False True True False True False True False\n"
          ]
        }
      ]
    },
    {
      "cell_type": "markdown",
      "source": [
        "# Type Converssion in Python:\n",
        "\n",
        "Ans-Type conversion in Python refers to the process of converting one data type into another.\n",
        "\n",
        "As likes"
      ],
      "metadata": {
        "id": "WYelnA5yzXuk"
      }
    },
    {
      "cell_type": "code",
      "source": [
        "#1.Convert int to float\n",
        "x = 130\n",
        "y = float(x)\n",
        "print(y, type(y))"
      ],
      "metadata": {
        "colab": {
          "base_uri": "https://localhost:8080/"
        },
        "id": "fLgrdk7P4pke",
        "outputId": "74bc77d9-feed-4758-f7ae-04230868206b"
      },
      "execution_count": 31,
      "outputs": [
        {
          "output_type": "stream",
          "name": "stdout",
          "text": [
            "130.0 <class 'float'>\n"
          ]
        }
      ]
    },
    {
      "cell_type": "code",
      "source": [
        "#2.Convert float to int\n",
        "a = 10.50\n",
        "b = int(a)\n",
        "print(b, type(b))"
      ],
      "metadata": {
        "colab": {
          "base_uri": "https://localhost:8080/"
        },
        "id": "ZmgVWgax49Ql",
        "outputId": "0a2aa190-2fa9-4e80-e832-4774f76c4523"
      },
      "execution_count": 34,
      "outputs": [
        {
          "output_type": "stream",
          "name": "stdout",
          "text": [
            "10 <class 'int'>\n"
          ]
        }
      ]
    },
    {
      "cell_type": "code",
      "source": [
        "#3.Convert int to complex\n",
        "x = 56\n",
        "y = complex(x)\n",
        "print(y, type(y))"
      ],
      "metadata": {
        "colab": {
          "base_uri": "https://localhost:8080/"
        },
        "id": "79_V4jj85MxE",
        "outputId": "fb7c92c4-c7ad-427e-975c-e24ea3a6da71"
      },
      "execution_count": 36,
      "outputs": [
        {
          "output_type": "stream",
          "name": "stdout",
          "text": [
            "(56+0j) <class 'complex'>\n"
          ]
        }
      ]
    },
    {
      "cell_type": "code",
      "source": [
        "#4.Positive Float to Boolean\n",
        "x = 67.14\n",
        "y = bool(x)\n",
        "print(y, type(y))"
      ],
      "metadata": {
        "colab": {
          "base_uri": "https://localhost:8080/"
        },
        "id": "fhQnHQhL5dpO",
        "outputId": "e0547432-69f8-4d49-b900-1daedf45e254"
      },
      "execution_count": 37,
      "outputs": [
        {
          "output_type": "stream",
          "name": "stdout",
          "text": [
            "True <class 'bool'>\n"
          ]
        }
      ]
    },
    {
      "cell_type": "code",
      "source": [],
      "metadata": {
        "id": "M2Dxle375mw_"
      },
      "execution_count": null,
      "outputs": []
    }
  ]
}